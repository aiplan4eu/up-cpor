{
 "cells": [
  {
   "cell_type": "markdown",
   "source": [
    "### Required installations"
   ],
   "metadata": {
    "collapsed": false,
    "pycharm": {
     "name": "#%% md\n"
    }
   }
  },
  {
   "cell_type": "code",
   "execution_count": 2,
   "outputs": [
    {
     "name": "stdout",
     "output_type": "stream",
     "text": [
      "Collecting pythonnet==3.0.0\n",
      "  Using cached pythonnet-3.0.0-py3-none-any.whl (278 kB)\n",
      "Requirement already satisfied: clr-loader<0.3.0,>=0.2.2 in c:\\users\\hilak\\anaconda3\\envs\\up_cpor_new2\\lib\\site-packages (from pythonnet==3.0.0) (0.2.5)\n",
      "Requirement already satisfied: cffi>=1.13 in c:\\users\\hilak\\anaconda3\\envs\\up_cpor_new2\\lib\\site-packages (from clr-loader<0.3.0,>=0.2.2->pythonnet==3.0.0) (1.15.1)\n",
      "Requirement already satisfied: pycparser in c:\\users\\hilak\\anaconda3\\envs\\up_cpor_new2\\lib\\site-packages (from cffi>=1.13->clr-loader<0.3.0,>=0.2.2->pythonnet==3.0.0) (2.21)\n",
      "Installing collected packages: pythonnet\n",
      "  Attempting uninstall: pythonnet\n",
      "    Found existing installation: pythonnet 3.0.1\n",
      "    Uninstalling pythonnet-3.0.1:\n",
      "      Successfully uninstalled pythonnet-3.0.1\n",
      "Successfully installed pythonnet-3.0.0\n"
     ]
    },
    {
     "name": "stderr",
     "output_type": "stream",
     "text": [
      "WARNING: The candidate selected for download or install is a yanked version: 'pythonnet' candidate (version 3.0.0 at https://files.pythonhosted.org/packages/a6/9d/536b48354e44834ef7651e08152d40e0accbb5de492d88d371e5b7b45884/pythonnet-3.0.0-py3-none-any.whl (from https://pypi.org/simple/pythonnet/))\n",
      "Reason for being yanked: Is missing python_requires and thus installs on unsupported versions\n"
     ]
    },
    {
     "name": "stdout",
     "output_type": "stream",
     "text": [
      "Requirement already satisfied: unified-planning in c:\\users\\hilak\\anaconda3\\envs\\up_cpor_new2\\lib\\site-packages (0.5.0.514.dev1)\n",
      "Requirement already satisfied: pyparsing in c:\\users\\hilak\\anaconda3\\envs\\up_cpor_new2\\lib\\site-packages (from unified-planning) (3.0.9)\n",
      "Requirement already satisfied: pysmt in c:\\users\\hilak\\anaconda3\\envs\\up_cpor_new2\\lib\\site-packages (from unified-planning) (0.9.5)\n",
      "Requirement already satisfied: networkx in c:\\users\\hilak\\anaconda3\\envs\\up_cpor_new2\\lib\\site-packages (from unified-planning) (3.0)\n",
      "Requirement already satisfied: unified-planning[tamer] in c:\\users\\hilak\\anaconda3\\envs\\up_cpor_new2\\lib\\site-packages (0.5.0.514.dev1)\n",
      "Requirement already satisfied: networkx in c:\\users\\hilak\\anaconda3\\envs\\up_cpor_new2\\lib\\site-packages (from unified-planning[tamer]) (3.0)\n",
      "Requirement already satisfied: pysmt in c:\\users\\hilak\\anaconda3\\envs\\up_cpor_new2\\lib\\site-packages (from unified-planning[tamer]) (0.9.5)\n",
      "Requirement already satisfied: pyparsing in c:\\users\\hilak\\anaconda3\\envs\\up_cpor_new2\\lib\\site-packages (from unified-planning[tamer]) (3.0.9)\n",
      "Collecting up-tamer==0.3.1.13.dev1\n",
      "  Downloading up_tamer-0.3.1.13.dev1-py3-none-any.whl (13 kB)\n",
      "Requirement already satisfied: pytamer==0.1.10 in c:\\users\\hilak\\anaconda3\\envs\\up_cpor_new2\\lib\\site-packages (from up-tamer==0.3.1.13.dev1->unified-planning[tamer]) (0.1.10)\n",
      "Installing collected packages: up-tamer\n",
      "Successfully installed up-tamer-0.3.1.13.dev1\n"
     ]
    }
   ],
   "source": [
    "!pip install pythonnet==3.0.0\n",
    "!pip install unified-planning\n",
    "!pip install --pre unified-planning[tamer]"
   ],
   "metadata": {
    "collapsed": false,
    "pycharm": {
     "name": "#%%\n"
    }
   }
  },
  {
   "cell_type": "markdown",
   "source": [
    "### Unified Planning imports ###"
   ],
   "metadata": {
    "collapsed": false
   }
  },
  {
   "cell_type": "code",
   "execution_count": 3,
   "outputs": [],
   "source": [
    "from unified_planning.io import PDDLReader\n",
    "import unified_planning.environment as environment\n",
    "from unified_planning.engines.results import PlanGenerationResultStatus\n",
    "from unified_planning.shortcuts import *"
   ],
   "metadata": {
    "collapsed": false,
    "pycharm": {
     "name": "#%%\n"
    }
   }
  },
  {
   "cell_type": "markdown",
   "source": [
    "## Testing CPOR Engine With Original Solver\n",
    "\n",
    "We start by defining a simple problem in the UP syntax (alternatively we can use a parser or any other way to create a problem obejct)"
   ],
   "metadata": {
    "collapsed": false
   }
  },
  {
   "cell_type": "code",
   "execution_count": 5,
   "outputs": [],
   "source": [
    "# Creating a PDDL reader\n",
    "reader = PDDLReader()\n",
    "\n",
    "prob_arr = ['blocks2', 'blocks3', 'doors5', 'wumpus05']\n",
    "\n"
   ],
   "metadata": {
    "collapsed": false,
    "pycharm": {
     "name": "#%%\n"
    }
   }
  },
  {
   "cell_type": "code",
   "execution_count": 7,
   "outputs": [
    {
     "name": "stdout",
     "output_type": "stream",
     "text": [
      "###########################Problem: blocks2 start###########################\n"
     ]
    },
    {
     "ename": "FileNotFoundException",
     "evalue": "Unable to find assembly 'C:\\Users\\hilak\\OneDrive\\Documents\\GitHub\\up-cporr\\up_cpor\\CPORLib.dll'.\r\n   at Python.Runtime.CLRModule.AddReference(String name)",
     "output_type": "error",
     "traceback": [
      "\u001B[1;31m---------------------------------------------------------------------------\u001B[0m",
      "\u001B[1;31mFileNotFoundException\u001B[0m                     Traceback (most recent call last)",
      "Cell \u001B[1;32mIn[7], line 10\u001B[0m\n\u001B[0;32m      4\u001B[0m problem \u001B[38;5;241m=\u001B[39m reader\u001B[38;5;241m.\u001B[39mparse_problem(\n\u001B[0;32m      5\u001B[0m     \u001B[38;5;124mf\u001B[39m\u001B[38;5;124m\"\u001B[39m\u001B[38;5;124m../Tests/\u001B[39m\u001B[38;5;132;01m{\u001B[39;00mprob\u001B[38;5;132;01m}\u001B[39;00m\u001B[38;5;124m/d.pddl\u001B[39m\u001B[38;5;124m\"\u001B[39m,\n\u001B[0;32m      6\u001B[0m     \u001B[38;5;124mf\u001B[39m\u001B[38;5;124m\"\u001B[39m\u001B[38;5;124m../Tests/\u001B[39m\u001B[38;5;132;01m{\u001B[39;00mprob\u001B[38;5;132;01m}\u001B[39;00m\u001B[38;5;124m/p.pddl\u001B[39m\u001B[38;5;124m\"\u001B[39m\n\u001B[0;32m      7\u001B[0m )\n\u001B[0;32m      9\u001B[0m env \u001B[38;5;241m=\u001B[39m environment\u001B[38;5;241m.\u001B[39mget_environment()\n\u001B[1;32m---> 10\u001B[0m \u001B[43menv\u001B[49m\u001B[38;5;241;43m.\u001B[39;49m\u001B[43mfactory\u001B[49m\u001B[38;5;241;43m.\u001B[39;49m\u001B[43madd_engine\u001B[49m\u001B[43m(\u001B[49m\u001B[38;5;124;43m'\u001B[39;49m\u001B[38;5;124;43mCPORPlanning\u001B[39;49m\u001B[38;5;124;43m'\u001B[39;49m\u001B[43m,\u001B[49m\u001B[43m \u001B[49m\u001B[38;5;124;43m'\u001B[39;49m\u001B[38;5;124;43mup_cpor.engine\u001B[39;49m\u001B[38;5;124;43m'\u001B[39;49m\u001B[43m,\u001B[49m\u001B[43m \u001B[49m\u001B[38;5;124;43m'\u001B[39;49m\u001B[38;5;124;43mCPORImpl\u001B[39;49m\u001B[38;5;124;43m'\u001B[39;49m\u001B[43m)\u001B[49m\n\u001B[0;32m     12\u001B[0m \u001B[38;5;28;01mif\u001B[39;00m result\u001B[38;5;241m.\u001B[39mstatus \u001B[38;5;241m==\u001B[39m PlanGenerationResultStatus\u001B[38;5;241m.\u001B[39mSOLVED_SATISFICING:\n\u001B[0;32m     13\u001B[0m     \u001B[38;5;28mprint\u001B[39m(\u001B[38;5;124mf\u001B[39m\u001B[38;5;124m'\u001B[39m\u001B[38;5;132;01m{\u001B[39;00msolver\u001B[38;5;241m.\u001B[39mname\u001B[38;5;132;01m}\u001B[39;00m\u001B[38;5;124m found a valid plan!\u001B[39m\u001B[38;5;124m'\u001B[39m)\n",
      "File \u001B[1;32m~\\anaconda3\\envs\\up_cpor_new2\\lib\\site-packages\\unified_planning\\engines\\factory.py:280\u001B[0m, in \u001B[0;36mFactory.add_engine\u001B[1;34m(self, name, module_name, class_name)\u001B[0m\n\u001B[0;32m    272\u001B[0m \u001B[38;5;28;01mdef\u001B[39;00m \u001B[38;5;21madd_engine\u001B[39m(\u001B[38;5;28mself\u001B[39m, name: \u001B[38;5;28mstr\u001B[39m, module_name: \u001B[38;5;28mstr\u001B[39m, class_name: \u001B[38;5;28mstr\u001B[39m):\n\u001B[0;32m    273\u001B[0m \u001B[38;5;250m    \u001B[39m\u001B[38;5;124;03m\"\"\"\u001B[39;00m\n\u001B[0;32m    274\u001B[0m \u001B[38;5;124;03m    Adds an :class:`Engine <unified_planning.engines.Engine>` Class to the factory, given the module and the class names.\u001B[39;00m\n\u001B[0;32m    275\u001B[0m \n\u001B[1;32m   (...)\u001B[0m\n\u001B[0;32m    278\u001B[0m \u001B[38;5;124;03m    :param class_name: The `name` of the `engine Class`.\u001B[39;00m\n\u001B[0;32m    279\u001B[0m \u001B[38;5;124;03m    \"\"\"\u001B[39;00m\n\u001B[1;32m--> 280\u001B[0m     \u001B[38;5;28;43mself\u001B[39;49m\u001B[38;5;241;43m.\u001B[39;49m\u001B[43m_add_engine\u001B[49m\u001B[43m(\u001B[49m\u001B[43mname\u001B[49m\u001B[43m,\u001B[49m\u001B[43m \u001B[49m\u001B[43mmodule_name\u001B[49m\u001B[43m,\u001B[49m\u001B[43m \u001B[49m\u001B[43mclass_name\u001B[49m\u001B[43m)\u001B[49m\n\u001B[0;32m    281\u001B[0m     \u001B[38;5;28mself\u001B[39m\u001B[38;5;241m.\u001B[39m_preference_list\u001B[38;5;241m.\u001B[39mappend(name)\n\u001B[0;32m    282\u001B[0m     engine \u001B[38;5;241m=\u001B[39m \u001B[38;5;28mself\u001B[39m\u001B[38;5;241m.\u001B[39m_engines[name]\n",
      "File \u001B[1;32m~\\anaconda3\\envs\\up_cpor_new2\\lib\\site-packages\\unified_planning\\engines\\factory.py:378\u001B[0m, in \u001B[0;36mFactory._add_engine\u001B[1;34m(self, name, module_name, class_name)\u001B[0m\n\u001B[0;32m    377\u001B[0m \u001B[38;5;28;01mdef\u001B[39;00m \u001B[38;5;21m_add_engine\u001B[39m(\u001B[38;5;28mself\u001B[39m, name: \u001B[38;5;28mstr\u001B[39m, module_name: \u001B[38;5;28mstr\u001B[39m, class_name: \u001B[38;5;28mstr\u001B[39m):\n\u001B[1;32m--> 378\u001B[0m     module \u001B[38;5;241m=\u001B[39m \u001B[43mimportlib\u001B[49m\u001B[38;5;241;43m.\u001B[39;49m\u001B[43mimport_module\u001B[49m\u001B[43m(\u001B[49m\u001B[43mmodule_name\u001B[49m\u001B[43m)\u001B[49m\n\u001B[0;32m    379\u001B[0m     EngineImpl \u001B[38;5;241m=\u001B[39m \u001B[38;5;28mgetattr\u001B[39m(module, class_name)\n\u001B[0;32m    380\u001B[0m     \u001B[38;5;28mself\u001B[39m\u001B[38;5;241m.\u001B[39m_engines[name] \u001B[38;5;241m=\u001B[39m EngineImpl\n",
      "File \u001B[1;32m~\\anaconda3\\envs\\up_cpor_new2\\lib\\importlib\\__init__.py:127\u001B[0m, in \u001B[0;36mimport_module\u001B[1;34m(name, package)\u001B[0m\n\u001B[0;32m    125\u001B[0m             \u001B[38;5;28;01mbreak\u001B[39;00m\n\u001B[0;32m    126\u001B[0m         level \u001B[38;5;241m+\u001B[39m\u001B[38;5;241m=\u001B[39m \u001B[38;5;241m1\u001B[39m\n\u001B[1;32m--> 127\u001B[0m \u001B[38;5;28;01mreturn\u001B[39;00m \u001B[43m_bootstrap\u001B[49m\u001B[38;5;241;43m.\u001B[39;49m\u001B[43m_gcd_import\u001B[49m\u001B[43m(\u001B[49m\u001B[43mname\u001B[49m\u001B[43m[\u001B[49m\u001B[43mlevel\u001B[49m\u001B[43m:\u001B[49m\u001B[43m]\u001B[49m\u001B[43m,\u001B[49m\u001B[43m \u001B[49m\u001B[43mpackage\u001B[49m\u001B[43m,\u001B[49m\u001B[43m \u001B[49m\u001B[43mlevel\u001B[49m\u001B[43m)\u001B[49m\n",
      "File \u001B[1;32m<frozen importlib._bootstrap>:1030\u001B[0m, in \u001B[0;36m_gcd_import\u001B[1;34m(name, package, level)\u001B[0m\n",
      "File \u001B[1;32m<frozen importlib._bootstrap>:1007\u001B[0m, in \u001B[0;36m_find_and_load\u001B[1;34m(name, import_)\u001B[0m\n",
      "File \u001B[1;32m<frozen importlib._bootstrap>:986\u001B[0m, in \u001B[0;36m_find_and_load_unlocked\u001B[1;34m(name, import_)\u001B[0m\n",
      "File \u001B[1;32m<frozen importlib._bootstrap>:680\u001B[0m, in \u001B[0;36m_load_unlocked\u001B[1;34m(spec)\u001B[0m\n",
      "File \u001B[1;32m<frozen importlib._bootstrap_external>:850\u001B[0m, in \u001B[0;36mexec_module\u001B[1;34m(self, module)\u001B[0m\n",
      "File \u001B[1;32m<frozen importlib._bootstrap>:228\u001B[0m, in \u001B[0;36m_call_with_frames_removed\u001B[1;34m(f, *args, **kwds)\u001B[0m\n",
      "File \u001B[1;32m~\\OneDrive\\Documents\\GitHub\\up-cporr\\up_cpor\\engine.py:14\u001B[0m\n\u001B[0;32m     11\u001B[0m \u001B[38;5;28;01mfrom\u001B[39;00m \u001B[38;5;21;01munified_planning\u001B[39;00m\u001B[38;5;21;01m.\u001B[39;00m\u001B[38;5;21;01mengines\u001B[39;00m\u001B[38;5;21;01m.\u001B[39;00m\u001B[38;5;21;01mresults\u001B[39;00m \u001B[38;5;28;01mimport\u001B[39;00m PlanGenerationResultStatus, PlanGenerationResult\n\u001B[0;32m     13\u001B[0m \u001B[38;5;28;01mfrom\u001B[39;00m \u001B[38;5;21;01mtyping\u001B[39;00m \u001B[38;5;28;01mimport\u001B[39;00m Type, IO, Optional, Callable, Dict\n\u001B[1;32m---> 14\u001B[0m \u001B[38;5;28;01mfrom\u001B[39;00m \u001B[38;5;21;01mup_cpor\u001B[39;00m\u001B[38;5;21;01m.\u001B[39;00m\u001B[38;5;21;01mconverter\u001B[39;00m \u001B[38;5;28;01mimport\u001B[39;00m UpCporConverter\n\u001B[0;32m     17\u001B[0m MetaCredits \u001B[38;5;241m=\u001B[39m Credits(\u001B[38;5;124m'\u001B[39m\u001B[38;5;124mConitngent Planning Algorithms\u001B[39m\u001B[38;5;124m'\u001B[39m,\n\u001B[0;32m     18\u001B[0m                     \u001B[38;5;124m'\u001B[39m\u001B[38;5;124mGuy Shani\u001B[39m\u001B[38;5;124m'\u001B[39m,\n\u001B[0;32m     19\u001B[0m                     \u001B[38;5;124m'\u001B[39m\u001B[38;5;124mshanigu@bgu.ac.il\u001B[39m\u001B[38;5;124m'\u001B[39m,\n\u001B[1;32m   (...)\u001B[0m\n\u001B[0;32m     25\u001B[0m                     \u001B[38;5;124m'\u001B[39m\u001B[38;5;124mThe package contains CPOR, an offline planner that computes complete plan trees, and SDR, an online planner that interleaves planning and execution.\u001B[39m\u001B[38;5;124m'\u001B[39m\n\u001B[0;32m     26\u001B[0m                       )\n\u001B[0;32m     28\u001B[0m CPORCredits \u001B[38;5;241m=\u001B[39m Credits(\u001B[38;5;124m'\u001B[39m\u001B[38;5;124mCPOR\u001B[39m\u001B[38;5;124m'\u001B[39m,\n\u001B[0;32m     29\u001B[0m                     \u001B[38;5;124m'\u001B[39m\u001B[38;5;124mGuy Shani\u001B[39m\u001B[38;5;124m'\u001B[39m,\n\u001B[0;32m     30\u001B[0m                     \u001B[38;5;124m'\u001B[39m\u001B[38;5;124mshanigu@bgu.ac.il\u001B[39m\u001B[38;5;124m'\u001B[39m,\n\u001B[1;32m   (...)\u001B[0m\n\u001B[0;32m     39\u001B[0m                     \u001B[38;5;124m'\u001B[39m\u001B[38;5;124mComplete information can be found at the followign paper: Computing Contingent Plan Graphs using Online Planning, Maliah and Shani,TAAS,2021.\u001B[39m\u001B[38;5;124m'\u001B[39m\n\u001B[0;32m     40\u001B[0m )\n",
      "File \u001B[1;32m~\\OneDrive\\Documents\\GitHub\\up-cporr\\up_cpor\\converter.py:17\u001B[0m\n\u001B[0;32m     15\u001B[0m PROJECT_PATH \u001B[38;5;241m=\u001B[39m os\u001B[38;5;241m.\u001B[39mpath\u001B[38;5;241m.\u001B[39mdirname(os\u001B[38;5;241m.\u001B[39mpath\u001B[38;5;241m.\u001B[39mabspath(\u001B[38;5;18m__file__\u001B[39m))\n\u001B[0;32m     16\u001B[0m DLL_PATH \u001B[38;5;241m=\u001B[39m os\u001B[38;5;241m.\u001B[39mpath\u001B[38;5;241m.\u001B[39mjoin(PROJECT_PATH, \u001B[38;5;124m\"\u001B[39m\u001B[38;5;124mCPORLib.dll\u001B[39m\u001B[38;5;124m\"\u001B[39m)\n\u001B[1;32m---> 17\u001B[0m \u001B[43mclr\u001B[49m\u001B[38;5;241;43m.\u001B[39;49m\u001B[43mAddReference\u001B[49m\u001B[43m(\u001B[49m\u001B[43mDLL_PATH\u001B[49m\u001B[43m)\u001B[49m\n\u001B[0;32m     19\u001B[0m \u001B[38;5;28;01mfrom\u001B[39;00m \u001B[38;5;21;01mCPORLib\u001B[39;00m\u001B[38;5;21;01m.\u001B[39;00m\u001B[38;5;21;01mPlanningModel\u001B[39;00m \u001B[38;5;28;01mimport\u001B[39;00m Domain, Problem, ParametrizedAction, PlanningAction, Simulator\n\u001B[0;32m     20\u001B[0m \u001B[38;5;28;01mfrom\u001B[39;00m \u001B[38;5;21;01mCPORLib\u001B[39;00m\u001B[38;5;21;01m.\u001B[39;00m\u001B[38;5;21;01mLogicalUtilities\u001B[39;00m \u001B[38;5;28;01mimport\u001B[39;00m Predicate, ParametrizedPredicate, GroundedPredicate, PredicateFormula, CompoundFormula, Formula\n",
      "\u001B[1;31mFileNotFoundException\u001B[0m: Unable to find assembly 'C:\\Users\\hilak\\OneDrive\\Documents\\GitHub\\up-cporr\\up_cpor\\CPORLib.dll'.\r\n   at Python.Runtime.CLRModule.AddReference(String name)"
     ]
    }
   ],
   "source": [
    "for prob in prob_arr:\n",
    "    print(f\"###########################Problem: {prob} start###########################\")\n",
    "    # Parsing a PDDL problem from file\n",
    "    problem = reader.parse_problem(\n",
    "        f\"../Tests/{prob}/d.pddl\",\n",
    "        f\"../Tests/{prob}/p.pddl\"\n",
    "    )\n",
    "\n",
    "    env = environment.get_environment()\n",
    "    env.factory.add_engine('CPORPlanning', 'up_cpor.engine', 'CPORImpl')\n",
    "\n",
    "    with OneshotPlanner(name='CPORPlanning') as planner:\n",
    "        result = planner.solve(problem)\n",
    "        if result.status == PlanGenerationResultStatus.SOLVED_SATISFICING:\n",
    "            print(f'{planner.name} found a valid plan!')\n",
    "            print(f'Success')\n",
    "        else:\n",
    "            print('No plan found!')"
   ],
   "metadata": {
    "collapsed": false,
    "pycharm": {
     "name": "#%%\n"
    }
   }
  },
  {
   "cell_type": "markdown",
   "source": [
    "## Testing CPOR Engine With Py-tamer Solver\n",
    "\n",
    "We start by defining a simple problem in the UP syntax (alternatively we can use a parser or any other way to create a problem obejct)"
   ],
   "metadata": {
    "collapsed": false
   }
  },
  {
   "cell_type": "code",
   "execution_count": null,
   "outputs": [
    {
     "name": "stdout",
     "output_type": "stream",
     "text": [
      "###########################Problem: blocks2 start###########################\n",
      "\u001B[96m\u001B[1mNOTE: To disable printing of planning engine credits, add this line to your code: `up.shortcuts.get_env().credits_stream = None`\n",
      "\u001B[0m\u001B[96m  *** Credits ***\n",
      "\u001B[0m\u001B[96m  * In operation mode `OneshotPlanner` at line 428 of `C:\\Users\\hilak\\anaconda3\\envs\\up_cpor_new2\\lib\\site-packages\\unified_planning\\shortcuts.py`, \u001B[0m\u001B[96myou are using the following planning engine:\n",
      "\u001B[0m\u001B[96m  * Engine name: CPOR Meat planner\n",
      "  * Developers:  BGU\n",
      "\u001B[0m\u001B[96m  * Description: \u001B[0m\u001B[96mCPOR planner is a lightweight STRIPS planner written in c#.\u001B[0m\u001B[96m\n",
      "\u001B[0m\u001B[96m\n",
      "\u001B[0mCPORPlanning[Tamer] returned: <unified_planning.plans.contingent_plan.ContingentPlan object at 0x00000249D88CA340>\n",
      "\u001B[96m  *** Credits ***\n",
      "\u001B[0m\u001B[96m  * In operation mode `OneshotPlanner` at line 428 of `C:\\Users\\hilak\\anaconda3\\envs\\up_cpor_new2\\lib\\site-packages\\unified_planning\\shortcuts.py`, \u001B[0m\u001B[96myou are using the following planning engine:\n",
      "\u001B[0m\u001B[96m  * Engine name: CPOR Meat planner\n",
      "  * Developers:  BGU\n",
      "\u001B[0m\u001B[96m  * Description: \u001B[0m\u001B[96mCPOR planner is a lightweight STRIPS planner written in c#.\u001B[0m\u001B[96m\n",
      "\u001B[0m\u001B[96m\n",
      "\u001B[0mCPORPlanning[Pyperplan] returned: <unified_planning.plans.contingent_plan.ContingentPlan object at 0x00000249D8B87610>\n",
      "###########################Problem: blocks3 start###########################\n",
      "\u001B[96m  *** Credits ***\n",
      "\u001B[0m\u001B[96m  * In operation mode `OneshotPlanner` at line 428 of `C:\\Users\\hilak\\anaconda3\\envs\\up_cpor_new2\\lib\\site-packages\\unified_planning\\shortcuts.py`, \u001B[0m\u001B[96myou are using the following planning engine:\n",
      "\u001B[0m\u001B[96m  * Engine name: CPOR Meat planner\n",
      "  * Developers:  BGU\n",
      "\u001B[0m\u001B[96m  * Description: \u001B[0m\u001B[96mCPOR planner is a lightweight STRIPS planner written in c#.\u001B[0m\u001B[96m\n",
      "\u001B[0m\u001B[96m\n",
      "\u001B[0mCPORPlanning[Tamer] returned: <unified_planning.plans.contingent_plan.ContingentPlan object at 0x00000249D8B16FD0>\n",
      "\u001B[96m  *** Credits ***\n",
      "\u001B[0m\u001B[96m  * In operation mode `OneshotPlanner` at line 428 of `C:\\Users\\hilak\\anaconda3\\envs\\up_cpor_new2\\lib\\site-packages\\unified_planning\\shortcuts.py`, \u001B[0m\u001B[96myou are using the following planning engine:\n",
      "\u001B[0m\u001B[96m  * Engine name: CPOR Meat planner\n",
      "  * Developers:  BGU\n",
      "\u001B[0m\u001B[96m  * Description: \u001B[0m\u001B[96mCPOR planner is a lightweight STRIPS planner written in c#.\u001B[0m\u001B[96m\n",
      "\u001B[0m\u001B[96m\n",
      "\u001B[0mCPORPlanning[Pyperplan] returned: <unified_planning.plans.contingent_plan.ContingentPlan object at 0x00000249D8B16A30>\n",
      "###########################Problem: doors5 start###########################\n",
      "\u001B[96m  *** Credits ***\n",
      "\u001B[0m\u001B[96m  * In operation mode `OneshotPlanner` at line 428 of `C:\\Users\\hilak\\anaconda3\\envs\\up_cpor_new2\\lib\\site-packages\\unified_planning\\shortcuts.py`, \u001B[0m\u001B[96myou are using the following planning engine:\n",
      "\u001B[0m\u001B[96m  * Engine name: CPOR Meat planner\n",
      "  * Developers:  BGU\n",
      "\u001B[0m\u001B[96m  * Description: \u001B[0m\u001B[96mCPOR planner is a lightweight STRIPS planner written in c#.\u001B[0m\u001B[96m\n",
      "\u001B[0m\u001B[96m\n",
      "\u001B[0mCPORPlanning[Tamer] returned: <unified_planning.plans.contingent_plan.ContingentPlan object at 0x00000249D8974880>\n",
      "\u001B[96m  *** Credits ***\n",
      "\u001B[0m\u001B[96m  * In operation mode `OneshotPlanner` at line 428 of `C:\\Users\\hilak\\anaconda3\\envs\\up_cpor_new2\\lib\\site-packages\\unified_planning\\shortcuts.py`, \u001B[0m\u001B[96myou are using the following planning engine:\n",
      "\u001B[0m\u001B[96m  * Engine name: CPOR Meat planner\n",
      "  * Developers:  BGU\n",
      "\u001B[0m\u001B[96m  * Description: \u001B[0m\u001B[96mCPOR planner is a lightweight STRIPS planner written in c#.\u001B[0m\u001B[96m\n",
      "\u001B[0m\u001B[96m\n",
      "\u001B[0mCPORPlanning[Pyperplan] returned: <unified_planning.plans.contingent_plan.ContingentPlan object at 0x00000249D8A61700>\n",
      "###########################Problem: wumpus05 start###########################\n",
      "\u001B[96m  *** Credits ***\n",
      "\u001B[0m\u001B[96m  * In operation mode `OneshotPlanner` at line 428 of `C:\\Users\\hilak\\anaconda3\\envs\\up_cpor_new2\\lib\\site-packages\\unified_planning\\shortcuts.py`, \u001B[0m\u001B[96myou are using the following planning engine:\n",
      "\u001B[0m\u001B[96m  * Engine name: CPOR Meat planner\n",
      "  * Developers:  BGU\n",
      "\u001B[0m\u001B[96m  * Description: \u001B[0m\u001B[96mCPOR planner is a lightweight STRIPS planner written in c#.\u001B[0m\u001B[96m\n",
      "\u001B[0m\u001B[96m\n",
      "\u001B[0m"
     ]
    }
   ],
   "source": [
    "for prob in prob_arr:\n",
    "    print(f\"###########################Problem: {prob} start###########################\")\n",
    "    # Parsing a PDDL problem from file\n",
    "    problem = reader.parse_problem(\n",
    "        f\"../Tests/{prob}/d.pddl\",\n",
    "        f\"../Tests/{prob}/p.pddl\"\n",
    "    )\n",
    "\n",
    "    env = environment.get_environment()\n",
    "    env.factory.add_meta_engine('MetaCPORPlanning', 'up_cpor.engine', 'CPORMetaEngineImpl')\n",
    "\n",
    "    with OneshotPlanner(name='MetaCPORPlanning[tamer]') as planner:\n",
    "        result = planner.solve(problem)\n",
    "        print(\"%s returned: %s\" % (planner.name, result.plan))"
   ],
   "metadata": {
    "collapsed": false,
    "pycharm": {
     "name": "#%%\n"
    }
   }
  },
  {
   "cell_type": "markdown",
   "source": [
    "## Testing SDR Engine With UP Simulated Env"
   ],
   "metadata": {
    "collapsed": false
   }
  },
  {
   "cell_type": "code",
   "execution_count": 1,
   "outputs": [
    {
     "ename": "NameError",
     "evalue": "name 'prob_arr' is not defined",
     "output_type": "error",
     "traceback": [
      "\u001B[1;31m---------------------------------------------------------------------------\u001B[0m",
      "\u001B[1;31mNameError\u001B[0m                                 Traceback (most recent call last)",
      "Cell \u001B[1;32mIn[1], line 3\u001B[0m\n\u001B[0;32m      1\u001B[0m \u001B[38;5;28;01mfrom\u001B[39;00m \u001B[38;5;21;01munified_planning\u001B[39;00m\u001B[38;5;21;01m.\u001B[39;00m\u001B[38;5;21;01mmodel\u001B[39;00m\u001B[38;5;21;01m.\u001B[39;00m\u001B[38;5;21;01mcontingent\u001B[39;00m\u001B[38;5;21;01m.\u001B[39;00m\u001B[38;5;21;01menvironment\u001B[39;00m \u001B[38;5;28;01mimport\u001B[39;00m SimulatedEnvironment\n\u001B[1;32m----> 3\u001B[0m \u001B[38;5;28;01mfor\u001B[39;00m prob \u001B[38;5;129;01min\u001B[39;00m \u001B[43mprob_arr\u001B[49m:\n\u001B[0;32m      4\u001B[0m     \u001B[38;5;28mprint\u001B[39m(\u001B[38;5;124mf\u001B[39m\u001B[38;5;124m\"\u001B[39m\u001B[38;5;124m###########################Problem: \u001B[39m\u001B[38;5;132;01m{\u001B[39;00mprob\u001B[38;5;132;01m}\u001B[39;00m\u001B[38;5;124m start###########################\u001B[39m\u001B[38;5;124m\"\u001B[39m)\n\u001B[0;32m      5\u001B[0m     \u001B[38;5;66;03m# Parsing a PDDL problem from file\u001B[39;00m\n",
      "\u001B[1;31mNameError\u001B[0m: name 'prob_arr' is not defined"
     ]
    }
   ],
   "source": [
    "from unified_planning.model.contingent.environment import SimulatedEnvironment\n",
    "\n",
    "for prob in prob_arr:\n",
    "    print(f\"###########################Problem: {prob} start###########################\")\n",
    "    # Parsing a PDDL problem from file\n",
    "    problem = reader.parse_problem(\n",
    "        f\"../Tests/{prob}/d.pddl\",\n",
    "        f\"../Tests/{prob}/p.pddl\"\n",
    "    )\n",
    "\n",
    "    env = environment.get_environment()\n",
    "    env.factory.add_engine('SDRPlanning', 'up_cpor.engine', 'SDRImpl')\n",
    "\n",
    "    with ActionSelector(name='SDRPlanning', problem=problem) as solver:\n",
    "        simulatedEnv = SimulatedEnvironment(problem)\n",
    "        while not simulatedEnv.is_goal_reached():\n",
    "            action = solver.get_action()\n",
    "            observation = simulatedEnv.apply(action)\n",
    "            solver.update(observation)"
   ],
   "metadata": {
    "collapsed": false,
    "pycharm": {
     "name": "#%%\n"
    }
   }
  },
  {
   "cell_type": "markdown",
   "source": [
    "## Testing SDR Engine With SDR Simulated Env\n"
   ],
   "metadata": {
    "collapsed": false
   }
  },
  {
   "cell_type": "code",
   "execution_count": null,
   "outputs": [],
   "source": [
    "from up_cpor.simulator import SDRSimulator\n",
    "\n",
    "for prob in prob_arr:\n",
    "    print(f\"###########################Problem: {prob} start###########################\")\n",
    "    # Parsing a PDDL problem from file\n",
    "    problem = reader.parse_problem(\n",
    "        f\"../Tests/{prob}/d.pddl\",\n",
    "        f\"../Tests/{prob}/p.pddl\"\n",
    "    )\n",
    "\n",
    "    env = environment.get_environment()\n",
    "    env.factory.add_engine('SDRPlanning', 'up_cpor.engine', 'SDRImpl')\n",
    "\n",
    "    with ActionSelector(name='SDRPlanning', problem=problem) as solver:\n",
    "        simulatedEnv = SDRSimulator(problem)\n",
    "        while not simulatedEnv.is_goal_reached():\n",
    "            action = solver.get_action()\n",
    "            observation = simulatedEnv.apply(action)\n",
    "            solver.update(observation)"
   ],
   "metadata": {
    "collapsed": false,
    "pycharm": {
     "name": "#%%\n"
    }
   }
  }
 ],
 "metadata": {
  "colab": {
   "collapsed_sections": [],
   "name": "Planning Engine Demo.ipynb",
   "provenance": []
  },
  "kernelspec": {
   "display_name": "Python 3",
   "language": "python",
   "name": "python3"
  },
  "language_info": {
   "codemirror_mode": {
    "name": "ipython",
    "version": 3
   },
   "file_extension": ".py",
   "mimetype": "text/x-python",
   "name": "python",
   "nbconvert_exporter": "python",
   "pygments_lexer": "ipython3",
   "version": "3.8.10"
  }
 },
 "nbformat": 4,
 "nbformat_minor": 1
}