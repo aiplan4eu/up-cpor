{
 "cells": [
  {
   "cell_type": "markdown",
   "source": [
    "### Required installations"
   ],
   "metadata": {
    "collapsed": false,
    "pycharm": {
     "name": "#%% md\n"
    }
   }
  },
  {
   "cell_type": "code",
   "execution_count": 1,
   "outputs": [
    {
     "name": "stdout",
     "output_type": "stream",
     "text": [
      "Requirement already satisfied: pythonnet==3.0.0 in c:\\users\\hilak\\anaconda3\\envs\\up_cpor_new2\\lib\\site-packages (3.0.0)\n",
      "Requirement already satisfied: clr-loader<0.3.0,>=0.2.2 in c:\\users\\hilak\\anaconda3\\envs\\up_cpor_new2\\lib\\site-packages (from pythonnet==3.0.0) (0.2.5)\n",
      "Requirement already satisfied: cffi>=1.13 in c:\\users\\hilak\\anaconda3\\envs\\up_cpor_new2\\lib\\site-packages (from clr-loader<0.3.0,>=0.2.2->pythonnet==3.0.0) (1.15.1)\n",
      "Requirement already satisfied: pycparser in c:\\users\\hilak\\anaconda3\\envs\\up_cpor_new2\\lib\\site-packages (from cffi>=1.13->clr-loader<0.3.0,>=0.2.2->pythonnet==3.0.0) (2.21)\n",
      "Requirement already satisfied: unified-planning in c:\\users\\hilak\\anaconda3\\envs\\up_cpor_new2\\lib\\site-packages (0.5.0)\n",
      "Requirement already satisfied: pyparsing in c:\\users\\hilak\\anaconda3\\envs\\up_cpor_new2\\lib\\site-packages (from unified-planning) (3.0.9)\n",
      "Requirement already satisfied: networkx in c:\\users\\hilak\\anaconda3\\envs\\up_cpor_new2\\lib\\site-packages (from unified-planning) (3.0)\n"
     ]
    }
   ],
   "source": [
    "!pip install pythonnet==3.0.0\n",
    "!pip install unified-planning\n",
    "!pip install --pre unified-planning[tamer]"
   ],
   "metadata": {
    "collapsed": false,
    "pycharm": {
     "name": "#%%\n"
    }
   }
  },
  {
   "cell_type": "markdown",
   "source": [
    "### Unified Planning imports ###"
   ],
   "metadata": {
    "collapsed": false
   }
  },
  {
   "cell_type": "code",
   "execution_count": 6,
   "outputs": [],
   "source": [
    "from unified_planning.io import PDDLReader\n",
    "import unified_planning.environment as environment\n",
    "from unified_planning.engines.results import PlanGenerationResultStatus\n",
    "from unified_planning.shortcuts import *"
   ],
   "metadata": {
    "collapsed": false,
    "pycharm": {
     "name": "#%%\n"
    }
   }
  },
  {
   "cell_type": "markdown",
   "source": [
    "### CPOREngin import ###"
   ],
   "metadata": {
    "collapsed": false,
    "pycharm": {
     "name": "#%% md\n"
    }
   }
  },
  {
   "cell_type": "code",
   "execution_count": 7,
   "outputs": [],
   "source": [
    "from up_cpor.engine import CPORImpl\n"
   ],
   "metadata": {
    "collapsed": false,
    "pycharm": {
     "name": "#%%\n"
    }
   }
  },
  {
   "cell_type": "markdown",
   "source": [
    "Done! We are nor ready to test our planning engine!"
   ],
   "metadata": {
    "collapsed": false
   }
  },
  {
   "cell_type": "markdown",
   "source": [
    "## Testing the engine with original solver\n",
    "\n",
    "We start by defining a simple problem in the UP syntax (alternatively we can use a parser or any other way to create a problem obejct)"
   ],
   "metadata": {
    "collapsed": false
   }
  },
  {
   "cell_type": "code",
   "execution_count": 8,
   "outputs": [
    {
     "name": "stdout",
     "output_type": "stream",
     "text": [
      "###########################Problem: blocks2 start###########################\n",
      "CPORPlanning found a valid plan!\n",
      "Success\n",
      "###########################Problem: blocks3 start###########################\n",
      "CPORPlanning found a valid plan!\n",
      "Success\n",
      "###########################Problem: doors5 start###########################\n",
      "CPORPlanning found a valid plan!\n",
      "Success\n",
      "###########################Problem: wumpus05 start###########################\n",
      "CPORPlanning found a valid plan!\n",
      "Success\n"
     ]
    }
   ],
   "source": [
    "# Creating a PDDL reader\n",
    "reader = PDDLReader()\n",
    "\n",
    "prob_arr = ['blocks2', 'blocks3', 'doors5', 'wumpus05', ]\n",
    "prob_fails_arr = ['blocks7', 'medpks010', 'colorballs2-2', 'unix1', 'wumpus10']\n",
    "large_prob_arr = ['doors15', ]\n",
    "no_sol_pro = ['localize5', ]\n",
    "\n",
    "for prob in prob_arr:\n",
    "    print(f\"###########################Problem: {prob} start###########################\")\n",
    "    # Parsing a PDDL problem from file\n",
    "    problem = reader.parse_problem(\n",
    "        f\"../Tests/DLLs/{prob}/d.pddl\",\n",
    "        f\"../Tests/DLLs/{prob}/p.pddl\"\n",
    "    )\n",
    "\n",
    "    solver = CPORImpl()\n",
    "    result = solver.solve(problem)\n",
    "\n",
    "    if result.status == PlanGenerationResultStatus.SOLVED_SATISFICING:\n",
    "        print(f'{solver.name} found a valid plan!')\n",
    "        print(f'Success')\n",
    "    else:\n",
    "        print('No plan found!')"
   ],
   "metadata": {
    "collapsed": false,
    "pycharm": {
     "name": "#%%\n"
    }
   }
  },
  {
   "cell_type": "markdown",
   "source": [
    "## Testing the engine with pytamer as solver\n",
    "\n",
    "We start by defining a simple problem in the UP syntax (alternatively we can use a parser or any other way to create a problem obejct)"
   ],
   "metadata": {
    "collapsed": false
   }
  },
  {
   "cell_type": "code",
   "execution_count": null,
   "outputs": [
    {
     "name": "stdout",
     "output_type": "stream",
     "text": [
      "###########################Problem: blocks2 start###########################\n",
      "\u001B[96m\u001B[1mNOTE: To disable printing of planning engine credits, add this line to your code: `up.shortcuts.get_env().credits_stream = None`\n",
      "\u001B[0m\u001B[96m  *** Credits ***\n",
      "\u001B[0m\u001B[96m  * In operation mode `OneshotPlanner` at line 428 of `C:\\Users\\hilak\\anaconda3\\envs\\up_cpor_new2\\lib\\site-packages\\unified_planning\\shortcuts.py`, \u001B[0m\u001B[96myou are using the following planning engine:\n",
      "\u001B[0m\u001B[96m  * Engine name: CPOR Meat planner\n",
      "  * Developers:  BGU\n",
      "\u001B[0m\u001B[96m  * Description: \u001B[0m\u001B[96mCPOR planner is a lightweight STRIPS planner written in c#.\u001B[0m\u001B[96m\n",
      "\u001B[0m\u001B[96m\n",
      "\u001B[0mCPORPlanning[Tamer] returned: <unified_planning.plans.contingent_plan.ContingentPlan object at 0x00000249D88CA340>\n",
      "\u001B[96m  *** Credits ***\n",
      "\u001B[0m\u001B[96m  * In operation mode `OneshotPlanner` at line 428 of `C:\\Users\\hilak\\anaconda3\\envs\\up_cpor_new2\\lib\\site-packages\\unified_planning\\shortcuts.py`, \u001B[0m\u001B[96myou are using the following planning engine:\n",
      "\u001B[0m\u001B[96m  * Engine name: CPOR Meat planner\n",
      "  * Developers:  BGU\n",
      "\u001B[0m\u001B[96m  * Description: \u001B[0m\u001B[96mCPOR planner is a lightweight STRIPS planner written in c#.\u001B[0m\u001B[96m\n",
      "\u001B[0m\u001B[96m\n",
      "\u001B[0mCPORPlanning[Pyperplan] returned: <unified_planning.plans.contingent_plan.ContingentPlan object at 0x00000249D8B87610>\n",
      "###########################Problem: blocks3 start###########################\n",
      "\u001B[96m  *** Credits ***\n",
      "\u001B[0m\u001B[96m  * In operation mode `OneshotPlanner` at line 428 of `C:\\Users\\hilak\\anaconda3\\envs\\up_cpor_new2\\lib\\site-packages\\unified_planning\\shortcuts.py`, \u001B[0m\u001B[96myou are using the following planning engine:\n",
      "\u001B[0m\u001B[96m  * Engine name: CPOR Meat planner\n",
      "  * Developers:  BGU\n",
      "\u001B[0m\u001B[96m  * Description: \u001B[0m\u001B[96mCPOR planner is a lightweight STRIPS planner written in c#.\u001B[0m\u001B[96m\n",
      "\u001B[0m\u001B[96m\n",
      "\u001B[0mCPORPlanning[Tamer] returned: <unified_planning.plans.contingent_plan.ContingentPlan object at 0x00000249D8B16FD0>\n",
      "\u001B[96m  *** Credits ***\n",
      "\u001B[0m\u001B[96m  * In operation mode `OneshotPlanner` at line 428 of `C:\\Users\\hilak\\anaconda3\\envs\\up_cpor_new2\\lib\\site-packages\\unified_planning\\shortcuts.py`, \u001B[0m\u001B[96myou are using the following planning engine:\n",
      "\u001B[0m\u001B[96m  * Engine name: CPOR Meat planner\n",
      "  * Developers:  BGU\n",
      "\u001B[0m\u001B[96m  * Description: \u001B[0m\u001B[96mCPOR planner is a lightweight STRIPS planner written in c#.\u001B[0m\u001B[96m\n",
      "\u001B[0m\u001B[96m\n",
      "\u001B[0mCPORPlanning[Pyperplan] returned: <unified_planning.plans.contingent_plan.ContingentPlan object at 0x00000249D8B16A30>\n",
      "###########################Problem: doors5 start###########################\n",
      "\u001B[96m  *** Credits ***\n",
      "\u001B[0m\u001B[96m  * In operation mode `OneshotPlanner` at line 428 of `C:\\Users\\hilak\\anaconda3\\envs\\up_cpor_new2\\lib\\site-packages\\unified_planning\\shortcuts.py`, \u001B[0m\u001B[96myou are using the following planning engine:\n",
      "\u001B[0m\u001B[96m  * Engine name: CPOR Meat planner\n",
      "  * Developers:  BGU\n",
      "\u001B[0m\u001B[96m  * Description: \u001B[0m\u001B[96mCPOR planner is a lightweight STRIPS planner written in c#.\u001B[0m\u001B[96m\n",
      "\u001B[0m\u001B[96m\n",
      "\u001B[0mCPORPlanning[Tamer] returned: <unified_planning.plans.contingent_plan.ContingentPlan object at 0x00000249D8974880>\n",
      "\u001B[96m  *** Credits ***\n",
      "\u001B[0m\u001B[96m  * In operation mode `OneshotPlanner` at line 428 of `C:\\Users\\hilak\\anaconda3\\envs\\up_cpor_new2\\lib\\site-packages\\unified_planning\\shortcuts.py`, \u001B[0m\u001B[96myou are using the following planning engine:\n",
      "\u001B[0m\u001B[96m  * Engine name: CPOR Meat planner\n",
      "  * Developers:  BGU\n",
      "\u001B[0m\u001B[96m  * Description: \u001B[0m\u001B[96mCPOR planner is a lightweight STRIPS planner written in c#.\u001B[0m\u001B[96m\n",
      "\u001B[0m\u001B[96m\n",
      "\u001B[0mCPORPlanning[Pyperplan] returned: <unified_planning.plans.contingent_plan.ContingentPlan object at 0x00000249D8A61700>\n",
      "###########################Problem: wumpus05 start###########################\n",
      "\u001B[96m  *** Credits ***\n",
      "\u001B[0m\u001B[96m  * In operation mode `OneshotPlanner` at line 428 of `C:\\Users\\hilak\\anaconda3\\envs\\up_cpor_new2\\lib\\site-packages\\unified_planning\\shortcuts.py`, \u001B[0m\u001B[96myou are using the following planning engine:\n",
      "\u001B[0m\u001B[96m  * Engine name: CPOR Meat planner\n",
      "  * Developers:  BGU\n",
      "\u001B[0m\u001B[96m  * Description: \u001B[0m\u001B[96mCPOR planner is a lightweight STRIPS planner written in c#.\u001B[0m\u001B[96m\n",
      "\u001B[0m\u001B[96m\n",
      "\u001B[0m"
     ]
    }
   ],
   "source": [
    "    # Creating a PDDL reader\n",
    "    reader = PDDLReader()\n",
    "\n",
    "    prob_arr = ['blocks2', 'blocks3', 'doors5', 'wumpus05', ]\n",
    "    prob_fails_arr = ['blocks7', 'medpks010', 'colorballs2-2', 'unix1', 'wumpus10']\n",
    "    large_prob_arr = ['doors15', ]\n",
    "    no_sol_pro = ['localize5', ]\n",
    "\n",
    "    for prob in prob_arr:\n",
    "        print(f\"###########################Problem: {prob} start###########################\")\n",
    "        # Parsing a PDDL problem from file\n",
    "        problem = reader.parse_problem(\n",
    "            f\"../Tests/DLLs/{prob}/d.pddl\",\n",
    "            f\"../Tests/DLLs/{prob}/p.pddl\"\n",
    "        )\n",
    "\n",
    "        env = environment.get_env()\n",
    "        env.factory.add_meta_engine('MetaCPORPlanning', 'up_cpor.engine', 'CPORMetaEngineImpl')\n",
    "\n",
    "        with OneshotPlanner(name='MetaCPORPlanning[tamer]') as planner:\n",
    "            result = planner.solve(problem)\n",
    "            print(\"%s returned: %s\" % (planner.name, result.plan))"
   ],
   "metadata": {
    "collapsed": false,
    "pycharm": {
     "name": "#%%\n"
    }
   }
  }
 ],
 "metadata": {
  "colab": {
   "collapsed_sections": [],
   "name": "Planning Engine Demo.ipynb",
   "provenance": []
  },
  "kernelspec": {
   "display_name": "Python 3",
   "language": "python",
   "name": "python3"
  },
  "language_info": {
   "codemirror_mode": {
    "name": "ipython",
    "version": 3
   },
   "file_extension": ".py",
   "mimetype": "text/x-python",
   "name": "python",
   "nbconvert_exporter": "python",
   "pygments_lexer": "ipython3",
   "version": "3.8.10"
  }
 },
 "nbformat": 4,
 "nbformat_minor": 1
}