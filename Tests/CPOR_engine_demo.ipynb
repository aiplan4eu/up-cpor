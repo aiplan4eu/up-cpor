{
 "cells": [
  {
   "cell_type": "markdown",
   "source": [
    "### Unified Planning imports ###"
   ],
   "metadata": {
    "collapsed": false
   }
  },
  {
   "cell_type": "code",
   "execution_count": 1,
   "outputs": [],
   "source": [
    "from unified_planning.io import PDDLReader\n",
    "import unified_planning.environment as environment\n",
    "from unified_planning.engines.results import PlanGenerationResultStatus"
   ],
   "metadata": {
    "collapsed": false,
    "pycharm": {
     "name": "#%%\n"
    }
   }
  },
  {
   "cell_type": "raw",
   "source": [
    "### CPOREngin import ###\n"
   ],
   "metadata": {
    "collapsed": false,
    "pycharm": {
     "name": "#%% raw\n"
    }
   }
  },
  {
   "cell_type": "code",
   "execution_count": 2,
   "outputs": [],
   "source": [
    "from up_cpor.engine import CPORImpl\n"
   ],
   "metadata": {
    "collapsed": false,
    "pycharm": {
     "name": "#%%\n"
    }
   }
  },
  {
   "cell_type": "markdown",
   "metadata": {
    "id": "kGhQuSjTanEM"
   },
   "source": [
    "Essentially, we just need to give a custom name (in our case `CPORPlanning`) a module name (in this case, `__name__` as we are in the same file as the Solver class) and finally the class name that we used to define our planning engine.\n",
    "\n",
    "Done! We are nor ready to test our planning engine!"
   ]
  },
  {
   "cell_type": "markdown",
   "source": [
    "## Testing the engine with original solver\n",
    "\n",
    "We start by defining a simple problem in the UP syntax (alternatively we can use a parser or any other way to create a problem obejct)"
   ],
   "metadata": {
    "collapsed": false
   }
  },
  {
   "cell_type": "code",
   "execution_count": 3,
   "outputs": [
    {
     "name": "stdout",
     "output_type": "stream",
     "text": [
      "###########################Problem: blocks2 start###########################\n",
      "CPORPlanning found a valid plan!\n",
      "Success\n",
      "###########################Problem: blocks3 start###########################\n",
      "CPORPlanning found a valid plan!\n",
      "Success\n",
      "###########################Problem: doors5 start###########################\n",
      "CPORPlanning found a valid plan!\n",
      "Success\n",
      "###########################Problem: wumpus05 start###########################\n",
      "CPORPlanning found a valid plan!\n",
      "Success\n"
     ]
    }
   ],
   "source": [
    "# Creating a PDDL reader\n",
    "reader = PDDLReader()\n",
    "\n",
    "prob_arr = ['blocks2', 'blocks3', 'doors5', 'wumpus05', ]\n",
    "prob_fails_arr = ['blocks7', 'medpks010', 'colorballs2-2', 'unix1', 'wumpus10']\n",
    "large_prob_arr = ['doors15', ]\n",
    "no_sol_pro = ['localize5', ]\n",
    "\n",
    "for prob in prob_arr:\n",
    "    print(f\"###########################Problem: {prob} start###########################\")\n",
    "    # Parsing a PDDL problem from file\n",
    "    problem = reader.parse_problem(\n",
    "        f\"../Tests/DLLs/{prob}/d.pddl\",\n",
    "        f\"../Tests/DLLs/{prob}/p.pddl\"\n",
    "    )\n",
    "\n",
    "    solver = CPORImpl()\n",
    "    result = solver.solve(problem)\n",
    "\n",
    "    if result.status == PlanGenerationResultStatus.SOLVED_SATISFICING:\n",
    "        print(f'{solver.name} found a valid plan!')\n",
    "        print(f'Success')\n",
    "    else:\n",
    "        print('No plan found!')"
   ],
   "metadata": {
    "collapsed": false,
    "pycharm": {
     "name": "#%%\n"
    }
   }
  },
  {
   "cell_type": "markdown",
   "metadata": {
    "id": "f5IWceEGa_YA"
   },
   "source": [
    "## Testing the engine with pytamer as solver\n",
    "\n",
    "We start by defining a simple problem in the UP syntax (alternatively we can use a parser or any other way to create a problem obejct)"
   ]
  },
  {
   "cell_type": "code",
   "execution_count": 7,
   "outputs": [
    {
     "name": "stdout",
     "output_type": "stream",
     "text": [
      "###########################Problem: blocks2 start###########################\n",
      "\u001B[96m  *** Credits ***\n",
      "\u001B[0m\u001B[96m  * In operation mode `OneshotPlanner` at line 19 of `C:\\Users\\hilak\\AppData\\Local\\Temp\\ipykernel_39036\\1621121516.py`, \u001B[0m\u001B[96myou are using the following planning engine:\n",
      "\u001B[0m\u001B[96m  * Engine name: Tamer\n",
      "  * Developers:  FBK Tamer Development Team\n",
      "\u001B[0m\u001B[96m  * Description: \u001B[0m\u001B[96mTamer offers the capability to generate a plan for classical, numerical and temporal problems.\n",
      "  *              For those kind of problems tamer also offers the possibility of validating a submitted plan.\u001B[0m\u001B[96m\n",
      "\u001B[0m\u001B[96m\n",
      "\u001B[0mCPORPlanning found a valid plan!\n",
      "Success\n",
      "###########################Problem: blocks3 start###########################\n",
      "\u001B[96m  *** Credits ***\n",
      "\u001B[0m\u001B[96m  * In operation mode `OneshotPlanner` at line 19 of `C:\\Users\\hilak\\AppData\\Local\\Temp\\ipykernel_39036\\1621121516.py`, \u001B[0m\u001B[96myou are using the following planning engine:\n",
      "\u001B[0m\u001B[96m  * Engine name: Tamer\n",
      "  * Developers:  FBK Tamer Development Team\n",
      "\u001B[0m\u001B[96m  * Description: \u001B[0m\u001B[96mTamer offers the capability to generate a plan for classical, numerical and temporal problems.\n",
      "  *              For those kind of problems tamer also offers the possibility of validating a submitted plan.\u001B[0m\u001B[96m\n",
      "\u001B[0m\u001B[96m\n",
      "\u001B[0mCPORPlanning found a valid plan!\n",
      "Success\n",
      "###########################Problem: doors5 start###########################\n",
      "\u001B[96m  *** Credits ***\n",
      "\u001B[0m\u001B[96m  * In operation mode `OneshotPlanner` at line 19 of `C:\\Users\\hilak\\AppData\\Local\\Temp\\ipykernel_39036\\1621121516.py`, \u001B[0m\u001B[96myou are using the following planning engine:\n",
      "\u001B[0m\u001B[96m  * Engine name: Tamer\n",
      "  * Developers:  FBK Tamer Development Team\n",
      "\u001B[0m\u001B[96m  * Description: \u001B[0m\u001B[96mTamer offers the capability to generate a plan for classical, numerical and temporal problems.\n",
      "  *              For those kind of problems tamer also offers the possibility of validating a submitted plan.\u001B[0m\u001B[96m\n",
      "\u001B[0m\u001B[96m\n",
      "\u001B[0mCPORPlanning found a valid plan!\n",
      "Success\n",
      "###########################Problem: wumpus05 start###########################\n",
      "\u001B[96m  *** Credits ***\n",
      "\u001B[0m\u001B[96m  * In operation mode `OneshotPlanner` at line 19 of `C:\\Users\\hilak\\AppData\\Local\\Temp\\ipykernel_39036\\1621121516.py`, \u001B[0m\u001B[96myou are using the following planning engine:\n",
      "\u001B[0m\u001B[96m  * Engine name: Tamer\n",
      "  * Developers:  FBK Tamer Development Team\n",
      "\u001B[0m\u001B[96m  * Description: \u001B[0m\u001B[96mTamer offers the capability to generate a plan for classical, numerical and temporal problems.\n",
      "  *              For those kind of problems tamer also offers the possibility of validating a submitted plan.\u001B[0m\u001B[96m\n",
      "\u001B[0m\u001B[96m\n",
      "\u001B[0mCPORPlanning found a valid plan!\n",
      "Success\n"
     ]
    }
   ],
   "source": [
    "    # Creating a PDDL reader\n",
    "    reader = PDDLReader()\n",
    "\n",
    "    prob_arr = ['blocks2', 'blocks3', 'doors5', 'wumpus05', ]\n",
    "    prob_fails_arr = ['blocks7', 'medpks010', 'colorballs2-2', 'unix1', 'wumpus10']\n",
    "    large_prob_arr = ['doors15', ]\n",
    "    no_sol_pro = ['localize5', ]\n",
    "\n",
    "    for prob in prob_arr:\n",
    "        print(f\"###########################Problem: {prob} start###########################\")\n",
    "        # Parsing a PDDL problem from file\n",
    "        problem = reader.parse_problem(\n",
    "            f\"../Tests/DLLs/{prob}/d.pddl\",\n",
    "            f\"../Tests/DLLs/{prob}/p.pddl\"\n",
    "        )\n",
    "\n",
    "        env = environment.get_env()\n",
    "        env.factory.add_engine('CPORPlanning', __name__, 'CPORImpl')\n",
    "        planner = env.factory.OneshotPlanner(name='tamer')\n",
    "\n",
    "        solver = CPORImpl()\n",
    "        solver.SetClassicalPlanner(planner)\n",
    "        result = solver.solve(problem)\n",
    "\n",
    "        if result.status == PlanGenerationResultStatus.SOLVED_SATISFICING:\n",
    "            print(f'{solver.name} found a valid plan!')\n",
    "            print(f'Success')\n",
    "        else:\n",
    "            print('No plan found!')"
   ],
   "metadata": {
    "collapsed": false,
    "pycharm": {
     "name": "#%%\n"
    }
   }
  },
  {
   "cell_type": "code",
   "execution_count": null,
   "outputs": [],
   "source": [],
   "metadata": {
    "collapsed": false,
    "pycharm": {
     "name": "#%%\n"
    }
   }
  }
 ],
 "metadata": {
  "colab": {
   "collapsed_sections": [],
   "name": "Planning Engine Demo.ipynb",
   "provenance": []
  },
  "kernelspec": {
   "display_name": "Python 3",
   "language": "python",
   "name": "python3"
  },
  "language_info": {
   "codemirror_mode": {
    "name": "ipython",
    "version": 3
   },
   "file_extension": ".py",
   "mimetype": "text/x-python",
   "name": "python",
   "nbconvert_exporter": "python",
   "pygments_lexer": "ipython3",
   "version": "3.8.10"
  }
 },
 "nbformat": 4,
 "nbformat_minor": 1
}