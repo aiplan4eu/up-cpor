{
 "nbformat": 4,
 "nbformat_minor": 0,
 "metadata": {
  "colab": {
   "provenance": []
  },
  "kernelspec": {
   "name": "python3",
   "display_name": "Python 3"
  },
  "language_info": {
   "name": "python"
  }
 },
 "cells": [
  {
   "cell_type": "markdown",
   "source": [
    "### Installing the CPOR repo"
   ],
   "metadata": {
    "id": "AcIlAtKdBzV1"
   }
  },
  {
   "cell_type": "code",
   "source": [
    "!pip install --upgrade --force-reinstall git+https://github.com/aiplan4eu/up-cpor"
   ],
   "metadata": {
    "colab": {
     "base_uri": "https://localhost:8080/",
     "height": 870
    },
    "id": "kiMFLRt0wwR0",
    "outputId": "1535cbbe-21fd-4afd-d34d-0d5ba77aaf69"
   },
   "execution_count": 1,
   "outputs": [
    {
     "output_type": "stream",
     "name": "stdout",
     "text": [
      "Looking in indexes: https://pypi.org/simple, https://us-python.pkg.dev/colab-wheels/public/simple/\n",
      "Collecting git+https://github.com/aiplan4eu/up-cpor\n",
      "  Cloning https://github.com/aiplan4eu/up-cpor to /tmp/pip-req-build-9yvl1osy\n",
      "  Running command git clone --filter=blob:none --quiet https://github.com/aiplan4eu/up-cpor /tmp/pip-req-build-9yvl1osy\n",
      "  Resolved https://github.com/aiplan4eu/up-cpor to commit da586943aa3d3ee71956326f02117f192a58238a\n",
      "  Preparing metadata (setup.py) ... \u001B[?25l\u001B[?25hdone\n",
      "Collecting pythonnet==3.0.0\n",
      "  Using cached pythonnet-3.0.0-py3-none-any.whl (278 kB)\n",
      "Collecting clr-loader<0.3.0,>=0.2.2\n",
      "  Using cached clr_loader-0.2.5-py3-none-any.whl (51 kB)\n",
      "Collecting cffi>=1.13\n",
      "  Using cached cffi-1.15.1-cp310-cp310-manylinux_2_17_x86_64.manylinux2014_x86_64.whl (441 kB)\n",
      "Collecting pycparser\n",
      "  Using cached pycparser-2.21-py2.py3-none-any.whl (118 kB)\n",
      "\u001B[33mWARNING: The candidate selected for download or install is a yanked version: 'pythonnet' candidate (version 3.0.0 at https://files.pythonhosted.org/packages/a6/9d/536b48354e44834ef7651e08152d40e0accbb5de492d88d371e5b7b45884/pythonnet-3.0.0-py3-none-any.whl (from https://pypi.org/simple/pythonnet/))\n",
      "Reason for being yanked: Is missing python_requires and thus installs on unsupported versions\u001B[0m\u001B[33m\n",
      "\u001B[0mBuilding wheels for collected packages: up-cpor\n",
      "  Building wheel for up-cpor (setup.py) ... \u001B[?25l\u001B[?25hdone\n",
      "  Created wheel for up-cpor: filename=up_cpor-1.0.0-py3-none-any.whl size=195302 sha256=f94f96481a54a7d44d7471aae813a9de9575fb038ea239b9de15e6d84e3ad140\n",
      "  Stored in directory: /tmp/pip-ephem-wheel-cache-ctsjnmu2/wheels/be/9e/5e/52e61552f9a9871307a07723fca96f5d0a319fbaff65d78036\n",
      "Successfully built up-cpor\n",
      "Installing collected packages: pycparser, cffi, clr-loader, pythonnet, up-cpor\n",
      "  Attempting uninstall: pycparser\n",
      "    Found existing installation: pycparser 2.21\n",
      "    Uninstalling pycparser-2.21:\n",
      "      Successfully uninstalled pycparser-2.21\n",
      "  Attempting uninstall: cffi\n",
      "    Found existing installation: cffi 1.15.1\n",
      "    Uninstalling cffi-1.15.1:\n",
      "      Successfully uninstalled cffi-1.15.1\n",
      "  Attempting uninstall: clr-loader\n",
      "    Found existing installation: clr-loader 0.2.5\n",
      "    Uninstalling clr-loader-0.2.5:\n",
      "      Successfully uninstalled clr-loader-0.2.5\n",
      "  Attempting uninstall: pythonnet\n",
      "    Found existing installation: pythonnet 3.0.0\n",
      "    Uninstalling pythonnet-3.0.0:\n",
      "      Successfully uninstalled pythonnet-3.0.0\n",
      "  Attempting uninstall: up-cpor\n",
      "    Found existing installation: up-cpor 1.0.0\n",
      "    Uninstalling up-cpor-1.0.0:\n",
      "      Successfully uninstalled up-cpor-1.0.0\n",
      "Successfully installed cffi-1.15.1 clr-loader-0.2.5 pycparser-2.21 pythonnet-3.0.0 up-cpor-1.0.0\n"
     ]
    },
    {
     "output_type": "display_data",
     "data": {
      "application/vnd.colab-display-data+json": {
       "pip_warning": {
        "packages": [
         "cffi"
        ]
       }
      }
     },
     "metadata": {}
    }
   ]
  },
  {
   "cell_type": "code",
   "source": [
    "!pip show up-cpor\n",
    "# !ls -R /usr/local/lib/python3.9/dist-packages | grep \"cpor\"\n",
    "!ls -R /usr/local/lib/python3.9/dist-packages | grep \"CPOR\""
   ],
   "metadata": {
    "colab": {
     "base_uri": "https://localhost:8080/"
    },
    "id": "8tvYLiLzcSUU",
    "outputId": "90ebc57b-26d6-4b5a-da1d-51bc92fcc681"
   },
   "execution_count": 2,
   "outputs": [
    {
     "output_type": "stream",
     "name": "stdout",
     "text": [
      "Name: up-cpor\n",
      "Version: 1.0.0\n",
      "Summary: up_cpor\n",
      "Home-page: \n",
      "Author: BGU CPOR Development Team\n",
      "Author-email: shanigu@bgu.ac.il\n",
      "License: APACHE\n",
      "Location: /usr/local/lib/python3.10/dist-packages\n",
      "Requires: pythonnet\n",
      "Required-by: \n",
      "ls: cannot access '/usr/local/lib/python3.9/dist-packages': No such file or directory\n"
     ]
    }
   ]
  },
  {
   "cell_type": "markdown",
   "source": [
    "### Installing the UP repo"
   ],
   "metadata": {
    "id": "pXu9fQDsB45c"
   }
  },
  {
   "cell_type": "code",
   "execution_count": 3,
   "metadata": {
    "colab": {
     "base_uri": "https://localhost:8080/"
    },
    "id": "arewyaduwNmS",
    "outputId": "65584f5a-583c-4a9d-8235-159b4532ad5c"
   },
   "outputs": [
    {
     "output_type": "stream",
     "name": "stdout",
     "text": [
      "Looking in indexes: https://pypi.org/simple, https://us-python.pkg.dev/colab-wheels/public/simple/\n",
      "Collecting git+https://github.com/aiplan4eu/unified-planning@action-selector-mixin\n",
      "  Cloning https://github.com/aiplan4eu/unified-planning (to revision action-selector-mixin) to /tmp/pip-req-build-pqm_4suy\n",
      "  Running command git clone --filter=blob:none --quiet https://github.com/aiplan4eu/unified-planning /tmp/pip-req-build-pqm_4suy\n",
      "  Running command git checkout -b action-selector-mixin --track origin/action-selector-mixin\n",
      "  Switched to a new branch 'action-selector-mixin'\n",
      "  Branch 'action-selector-mixin' set up to track remote branch 'action-selector-mixin' from 'origin'.\n",
      "  Resolved https://github.com/aiplan4eu/unified-planning to commit 0a6fe4420117e6b46f9e50162e846e5a34bb301c\n",
      "  Preparing metadata (setup.py) ... \u001B[?25l\u001B[?25hdone\n",
      "Requirement already satisfied: pyparsing in /usr/local/lib/python3.10/dist-packages (from unified-planning==0.5.0.514.dev1) (3.0.9)\n",
      "Requirement already satisfied: networkx in /usr/local/lib/python3.10/dist-packages (from unified-planning==0.5.0.514.dev1) (3.1)\n",
      "Requirement already satisfied: pysmt in /usr/local/lib/python3.10/dist-packages (from unified-planning==0.5.0.514.dev1) (0.9.5)\n"
     ]
    }
   ],
   "source": [
    "!pip install git+https://github.com/aiplan4eu/unified-planning@action-selector-mixin\n"
   ]
  },
  {
   "cell_type": "markdown",
   "source": [
    "### Installing the planner"
   ],
   "metadata": {
    "id": "DOcqfcfmBxqg"
   }
  },
  {
   "cell_type": "code",
   "source": [
    "!pysmt-install --z3"
   ],
   "metadata": {
    "colab": {
     "base_uri": "https://localhost:8080/"
    },
    "id": "kQJs_KWPxLaz",
    "outputId": "ea5ecc9d-5a3c-4705-88f1-019f82a0cc9a"
   },
   "execution_count": 4,
   "outputs": [
    {
     "output_type": "stream",
     "name": "stdout",
     "text": [
      "This script allows you to install the solvers supported by pySMT.\n",
      "\n",
      "By executing this script, you confirm that you have read and agreed\n",
      "with the licenses of each solver.\n",
      "\n",
      "Notice: the installation process might require building tools\n",
      "        (e.g., make and gcc).\n",
      "\n",
      "Continue? [Y]es/[N]o: n\n"
     ]
    }
   ]
  },
  {
   "cell_type": "markdown",
   "source": [
    "### Make sure that colab can use mono"
   ],
   "metadata": {
    "id": "oa_1e-yPCHO8"
   }
  },
  {
   "cell_type": "code",
   "source": [
    "!sudo apt-get install -y mono-complete"
   ],
   "metadata": {
    "colab": {
     "base_uri": "https://localhost:8080/"
    },
    "id": "ew9YSr9QAc1Y",
    "outputId": "d0c90113-3091-4b8b-bb29-283471428607"
   },
   "execution_count": 5,
   "outputs": [
    {
     "output_type": "stream",
     "name": "stdout",
     "text": [
      "Reading package lists... Done\n",
      "Building dependency tree       \n",
      "Reading state information... Done\n",
      "mono-complete is already the newest version (6.8.0.105+dfsg-2).\n",
      "0 upgraded, 0 newly installed, 0 to remove and 24 not upgraded.\n"
     ]
    }
   ]
  },
  {
   "cell_type": "code",
   "source": [
    "!mono --version"
   ],
   "metadata": {
    "colab": {
     "base_uri": "https://localhost:8080/"
    },
    "id": "p47TT5Bg-4JL",
    "outputId": "2af68cdb-c800-4e8a-fe23-be7bc3b7a3d1"
   },
   "execution_count": 6,
   "outputs": [
    {
     "output_type": "stream",
     "name": "stdout",
     "text": [
      "Mono JIT compiler version 6.8.0.105 (Debian 6.8.0.105+dfsg-2 Wed Feb 26 23:23:50 UTC 2020)\n",
      "Copyright (C) 2002-2014 Novell, Inc, Xamarin Inc and Contributors. www.mono-project.com\n",
      "\tTLS:           __thread\n",
      "\tSIGSEGV:       altstack\n",
      "\tNotifications: epoll\n",
      "\tArchitecture:  amd64\n",
      "\tDisabled:      none\n",
      "\tMisc:          softdebug \n",
      "\tInterpreter:   yes\n",
      "\tLLVM:          supported, not enabled.\n",
      "\tSuspend:       hybrid\n",
      "\tGC:            sgen (concurrent by default)\n"
     ]
    }
   ]
  },
  {
   "cell_type": "markdown",
   "source": [
    "# Load Problems\n",
    "\n",
    "### The problems PDDL files can be found in https://github.com/aiplan4eu/up-cpor/tree/master/Tests"
   ],
   "metadata": {
    "id": "TQ6ZgOMXn5Fb"
   }
  },
  {
   "cell_type": "code",
   "source": [
    "from unified_planning.io import PDDLReader\n",
    "\n",
    "reader = PDDLReader()\n",
    "\n",
    "# Parsing a PDDL problem from file\n",
    "problem = reader.parse_problem(\n",
    "    f\"d.pddl\",\n",
    "    f\"p.pddl\"\n",
    ")"
   ],
   "metadata": {
    "id": "FMJx1QI1oIvU"
   },
   "execution_count": 7,
   "outputs": []
  },
  {
   "cell_type": "markdown",
   "source": [
    "# CPOR Engine Example Run"
   ],
   "metadata": {
    "id": "d7rD41mmnvx2"
   }
  },
  {
   "cell_type": "code",
   "source": [
    "import unified_planning.environment as environment\n",
    "from unified_planning.shortcuts import OneshotPlanner\n",
    "from unified_planning.engines.results import PlanGenerationResultStatus\n",
    "\n",
    "env = environment.get_environment()\n",
    "env.factory.add_engine('CPORPlanning', 'up_cpor.engine', 'CPORImpl')\n",
    "\n",
    "with OneshotPlanner(name='CPORPlanning') as planner:\n",
    "    result = planner.solve(problem)\n",
    "    if result.status == PlanGenerationResultStatus.SOLVED_SATISFICING:\n",
    "        print(f'{planner.name} found a valid plan!')\n",
    "        print(f'Success')\n",
    "    else:\n",
    "        print('No plan found!')"
   ],
   "metadata": {
    "colab": {
     "base_uri": "https://localhost:8080/"
    },
    "id": "Qu1aWbffn4Ux",
    "outputId": "b488e044-5f29-44ae-ca34-5dd52e285701"
   },
   "execution_count": 19,
   "outputs": [
    {
     "output_type": "stream",
     "name": "stdout",
     "text": [
      "\u001B[96m  *** Credits ***\n",
      "\u001B[0m\u001B[96m  * In operation mode `OneshotPlanner` at line 9 of `<ipython-input-19-0ee5bfb2cc1b>`, \u001B[0m\u001B[96myou are using the following planning engine:\n",
      "\u001B[0m\u001B[96m  * Engine name: CPOR\n",
      "  * Developers:  Guy Shani\n",
      "\u001B[0m\u001B[96m  * Description: \u001B[0m\u001B[96mCPOR is an offline contingent planner.\n",
      "  *               It computes a complete plan tree (or graph) where each node is labeled by an action, and edges are labeled by observations.\n",
      "  *              The leaves of the plan tree correspond to goal states.\u001B[0m\u001B[96m\n",
      "\u001B[0m\u001B[96m\n",
      "\u001B[0mCPORPlanning found a valid plan!\n",
      "Success\n"
     ]
    }
   ]
  },
  {
   "cell_type": "markdown",
   "source": [
    "# CPOR Meta-Engine Example Run With 'up-tamer' as Inner Planner\n",
    "\n",
    "### Must install inner solver"
   ],
   "metadata": {
    "id": "-BTIpn4SoMRN"
   }
  },
  {
   "cell_type": "code",
   "source": [
    "!pip install unified-planning[tamer]"
   ],
   "metadata": {
    "colab": {
     "base_uri": "https://localhost:8080/"
    },
    "id": "1nJjOlOWuPqJ",
    "outputId": "ce4e329a-47f7-44f7-c900-b9014fb58edd"
   },
   "execution_count": 12,
   "outputs": [
    {
     "output_type": "stream",
     "name": "stdout",
     "text": [
      "Looking in indexes: https://pypi.org/simple, https://us-python.pkg.dev/colab-wheels/public/simple/\n",
      "Requirement already satisfied: unified-planning[tamer] in /usr/local/lib/python3.10/dist-packages (0.5.0.514.dev1)\n",
      "Requirement already satisfied: networkx in /usr/local/lib/python3.10/dist-packages (from unified-planning[tamer]) (3.1)\n",
      "Requirement already satisfied: pyparsing in /usr/local/lib/python3.10/dist-packages (from unified-planning[tamer]) (3.0.9)\n",
      "Requirement already satisfied: pysmt in /usr/local/lib/python3.10/dist-packages (from unified-planning[tamer]) (0.9.5)\n",
      "Requirement already satisfied: up-tamer==0.3.1.13.dev1 in /usr/local/lib/python3.10/dist-packages (from unified-planning[tamer]) (0.3.1.13.dev1)\n",
      "Requirement already satisfied: pytamer==0.1.10 in /usr/local/lib/python3.10/dist-packages (from up-tamer==0.3.1.13.dev1->unified-planning[tamer]) (0.1.10)\n"
     ]
    }
   ]
  },
  {
   "cell_type": "code",
   "source": [
    "import unified_planning.environment as environment\n",
    "from unified_planning.engines.results import PlanGenerationResultStatus\n",
    "from unified_planning.shortcuts import OneshotPlanner\n",
    "\n",
    "env = environment.get_environment()\n",
    "env.factory.add_meta_engine('MetaCPORPlanning', 'up_cpor.engine', 'CPORMetaEngineImpl')\n",
    "\n",
    "with OneshotPlanner(name='MetaCPORPlanning[tamer]') as planner:\n",
    "    result = planner.solve(problem)\n",
    "    if result.status == PlanGenerationResultStatus.SOLVED_SATISFICING:\n",
    "        print(f'{planner.name} found a valid plan!')\n",
    "        print(f'Success')\n",
    "    else:\n",
    "        print('No plan found!')"
   ],
   "metadata": {
    "colab": {
     "base_uri": "https://localhost:8080/"
    },
    "id": "eQobZ2GyoPDV",
    "outputId": "a44c9bbe-ec6f-4dfe-c89f-2c315d4eb53c"
   },
   "execution_count": 20,
   "outputs": [
    {
     "output_type": "stream",
     "name": "stdout",
     "text": [
      "\u001B[96m  *** Credits ***\n",
      "\u001B[0m\u001B[96m  * In operation mode `OneshotPlanner` at line 9 of `<ipython-input-20-f69e3db481b2>`, \u001B[0m\u001B[96myou are using the following planning engine:\n",
      "\u001B[0m\u001B[96m  * Engine name: Conitngent Planning Algorithms\n",
      "  * Developers:  Guy Shani\n",
      "\u001B[0m\u001B[96m  * Description: \u001B[0m\u001B[96mAlgorithms for offline and online decision making under partial observability and sensing actions\u001B[0m\u001B[96m\n",
      "\u001B[0m\u001B[96m\n",
      "\u001B[0mCPORPlanning[Tamer] found a valid plan!\n",
      "Success\n"
     ]
    }
   ]
  },
  {
   "cell_type": "markdown",
   "source": [
    "# SDR Engine Example Run with UP Simulated Env"
   ],
   "metadata": {
    "id": "7SMMuaddoPTn"
   }
  },
  {
   "cell_type": "code",
   "source": [
    "import unified_planning.environment as environment\n",
    "from unified_planning.model.contingent.environment import SimulatedEnvironment\n",
    "from unified_planning.shortcuts import ActionSelector\n",
    "\n",
    "env = environment.get_environment()\n",
    "env.factory.add_engine('SDRPlanning', 'up_cpor.engine', 'SDRImpl')\n",
    "\n",
    "with ActionSelector(name='SDRPlanning', problem=problem) as solver:\n",
    "    simulatedEnv = SimulatedEnvironment(problem)\n",
    "    while not simulatedEnv.is_goal_reached():\n",
    "        action = solver.get_action()\n",
    "        observation = simulatedEnv.apply(action)\n",
    "        solver.update(observation)"
   ],
   "metadata": {
    "colab": {
     "base_uri": "https://localhost:8080/"
    },
    "id": "vSAOGhyYoWK6",
    "outputId": "1a354f76-7cd0-4835-e967-3472927bc252"
   },
   "execution_count": 16,
   "outputs": [
    {
     "output_type": "stream",
     "name": "stdout",
     "text": [
      "\u001B[96m  *** Credits ***\n",
      "\u001B[0m\u001B[96m  * In operation mode `ActionSelector` at line 9 of `<ipython-input-16-c8c4086bc06c>`, \u001B[0m\u001B[96myou are using the following planning engine:\n",
      "\u001B[0m\u001B[96m  * Engine name: SDR\n",
      "  * Developers:  Guy Shani\n",
      "\u001B[0m\u001B[96m  * Description: \u001B[0m\u001B[96mSDR is an online contingent replanner.\n",
      "  *              It provides one action at a time, and then awaits to receive an observation from the environment.\u001B[0m\u001B[96m\n",
      "\u001B[0m\u001B[96m\n",
      "\u001B[0m"
     ]
    },
    {
     "output_type": "stream",
     "name": "stderr",
     "text": [
      "/usr/local/lib/python3.10/dist-packages/unified_planning/engines/mixins/sequential_simulator.py:50: UserWarning: We cannot establish whether sequential_simulator is able to handle this problem!\n",
      "  warn(msg)\n",
      "/usr/local/lib/python3.10/dist-packages/unified_planning/engines/sequential_simulator.py:67: UserWarning: The Grounder used in the <class 'unified_planning.engines.sequential_simulator.UPSequentialSimulator'> does not support the given problem\n",
      "  warn(msg)\n"
     ]
    },
    {
     "output_type": "stream",
     "name": "stdout",
     "text": [
      "move p1-1 p1-2\n",
      "move p1-2 p1-3\n",
      "move p1-3 p1-4\n",
      "move p1-4 p2-4\n",
      "smell_wumpus p2-4\n",
      "move p2-4 p2-5\n",
      "move p2-5 p3-5\n",
      "feel-breeze p3-5\n",
      "smell_wumpus p3-5\n",
      "move p3-5 p3-4\n",
      "move p3-4 p4-4\n",
      "move p4-4 p5-4\n",
      "move p5-4 p5-5\n",
      "grab p5-5\n"
     ]
    }
   ]
  },
  {
   "cell_type": "markdown",
   "source": [
    "# SDR Engine Example Run with SDR Simulated Env"
   ],
   "metadata": {
    "id": "z2kiFgUWoX4q"
   }
  },
  {
   "cell_type": "code",
   "source": [
    "import unified_planning.environment as environment\n",
    "from unified_planning.shortcuts import ActionSelector\n",
    "\n",
    "from up_cpor.simulator import SDRSimulator\n",
    "\n",
    "\n",
    "env = environment.get_environment()\n",
    "env.factory.add_engine('SDRPlanning', 'up_cpor.engine', 'SDRImpl')\n",
    "\n",
    "with ActionSelector(name='SDRPlanning', problem=problem) as solver:\n",
    "    simulatedEnv = SDRSimulator(problem)\n",
    "    while not simulatedEnv.is_goal_reached():\n",
    "        action = solver.get_action()\n",
    "        observation = simulatedEnv.apply(action)\n",
    "        solver.update(observation)"
   ],
   "metadata": {
    "colab": {
     "base_uri": "https://localhost:8080/"
    },
    "id": "lOt-g2LHoZq2",
    "outputId": "aa7934c5-5690-496b-9033-55b260fe99df"
   },
   "execution_count": 17,
   "outputs": [
    {
     "output_type": "stream",
     "name": "stdout",
     "text": [
      "\u001B[96m  *** Credits ***\n",
      "\u001B[0m\u001B[96m  * In operation mode `ActionSelector` at line 11 of `<ipython-input-17-daa1145251f1>`, \u001B[0m\u001B[96myou are using the following planning engine:\n",
      "\u001B[0m\u001B[96m  * Engine name: SDR\n",
      "  * Developers:  Guy Shani\n",
      "\u001B[0m\u001B[96m  * Description: \u001B[0m\u001B[96mSDR is an online contingent replanner.\n",
      "  *              It provides one action at a time, and then awaits to receive an observation from the environment.\u001B[0m\u001B[96m\n",
      "\u001B[0m\u001B[96m\n",
      "\u001B[0mmove p1-1 p1-2\n",
      "move p1-2 p1-3\n",
      "feel-breeze p1-3\n",
      "smell_wumpus p1-3\n",
      "move p1-3 p2-3\n",
      "move p2-3 p3-3\n",
      "smell_wumpus p3-3\n",
      "move p3-3 p2-3\n",
      "move p2-3 p2-4\n",
      "feel-breeze p2-4\n",
      "move p2-4 p2-3\n",
      "move p2-3 p3-3\n",
      "move p3-3 p4-3\n",
      "move p4-3 p4-2\n",
      "smell_wumpus p4-2\n",
      "move p4-2 p5-2\n",
      "move p5-2 p5-3\n",
      "feel-breeze p5-3\n",
      "smell_wumpus p5-3\n",
      "move p5-3 p5-4\n",
      "move p5-4 p5-5\n",
      "grab p5-5\n"
     ]
    }
   ]
  }
 ]
}