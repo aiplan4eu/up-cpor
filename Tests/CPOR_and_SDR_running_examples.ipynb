{
 "cells": [
  {
   "cell_type": "markdown",
   "source": [
    "### Required installations"
   ],
   "metadata": {
    "collapsed": false,
    "pycharm": {
     "name": "#%% md\n"
    }
   }
  },
  {
   "cell_type": "code",
   "execution_count": 1,
   "outputs": [
    {
     "name": "stdout",
     "output_type": "stream",
     "text": [
      "Requirement already satisfied: pythonnet==3.0.0 in c:\\users\\hilak\\anaconda3\\envs\\up-cporr\\lib\\site-packages (3.0.0)\n",
      "Requirement already satisfied: clr-loader<0.3.0,>=0.2.2 in c:\\users\\hilak\\anaconda3\\envs\\up-cporr\\lib\\site-packages (from pythonnet==3.0.0) (0.2.5)\n",
      "Requirement already satisfied: cffi>=1.13 in c:\\users\\hilak\\anaconda3\\envs\\up-cporr\\lib\\site-packages (from clr-loader<0.3.0,>=0.2.2->pythonnet==3.0.0) (1.15.1)\n",
      "Requirement already satisfied: pycparser in c:\\users\\hilak\\anaconda3\\envs\\up-cporr\\lib\\site-packages (from cffi>=1.13->clr-loader<0.3.0,>=0.2.2->pythonnet==3.0.0) (2.21)\n",
      "Collecting git+https://github.com/aiplan4eu/unified-planning@action-selector-mixin\n",
      "  Cloning https://github.com/aiplan4eu/unified-planning (to revision action-selector-mixin) to c:\\users\\hilak\\appdata\\local\\temp\\pip-req-build-_am_2z8y\n",
      "  Resolved https://github.com/aiplan4eu/unified-planning to commit 0a6fe4420117e6b46f9e50162e846e5a34bb301c\n",
      "  Preparing metadata (setup.py): started\n",
      "  Preparing metadata (setup.py): finished with status 'done'\n",
      "Requirement already satisfied: pyparsing in c:\\users\\hilak\\anaconda3\\envs\\up-cporr\\lib\\site-packages (from unified-planning==0.5.0.514.dev1) (3.0.9)\n",
      "Requirement already satisfied: networkx in c:\\users\\hilak\\anaconda3\\envs\\up-cporr\\lib\\site-packages (from unified-planning==0.5.0.514.dev1) (3.1)\n",
      "Requirement already satisfied: pysmt in c:\\users\\hilak\\anaconda3\\envs\\up-cporr\\lib\\site-packages (from unified-planning==0.5.0.514.dev1) (0.9.5)\n"
     ]
    },
    {
     "name": "stderr",
     "output_type": "stream",
     "text": [
      "  Running command git clone --filter=blob:none --quiet https://github.com/aiplan4eu/unified-planning 'C:\\Users\\hilak\\AppData\\Local\\Temp\\pip-req-build-_am_2z8y'\n",
      "  Running command git checkout -b action-selector-mixin --track origin/action-selector-mixin\n",
      "  Branch 'action-selector-mixin' set up to track remote branch 'action-selector-mixin' from 'origin'.\n",
      "  Switched to a new branch 'action-selector-mixin'\n"
     ]
    },
    {
     "name": "stdout",
     "output_type": "stream",
     "text": [
      "Requirement already satisfied: unified-planning[tamer] in c:\\users\\hilak\\anaconda3\\envs\\up-cporr\\lib\\site-packages (0.5.0.514.dev1)\n",
      "Requirement already satisfied: pyparsing in c:\\users\\hilak\\anaconda3\\envs\\up-cporr\\lib\\site-packages (from unified-planning[tamer]) (3.0.9)\n",
      "Requirement already satisfied: networkx in c:\\users\\hilak\\anaconda3\\envs\\up-cporr\\lib\\site-packages (from unified-planning[tamer]) (3.1)\n",
      "Requirement already satisfied: pysmt in c:\\users\\hilak\\anaconda3\\envs\\up-cporr\\lib\\site-packages (from unified-planning[tamer]) (0.9.5)\n",
      "Requirement already satisfied: up-tamer==0.3.1.13.dev1 in c:\\users\\hilak\\anaconda3\\envs\\up-cporr\\lib\\site-packages (from unified-planning[tamer]) (0.3.1.13.dev1)\n",
      "Requirement already satisfied: pytamer==0.1.10 in c:\\users\\hilak\\anaconda3\\envs\\up-cporr\\lib\\site-packages (from up-tamer==0.3.1.13.dev1->unified-planning[tamer]) (0.1.10)\n",
      "Collecting git+https://github.com/aiplan4eu/up-cpor\n",
      "  Cloning https://github.com/aiplan4eu/up-cpor to c:\\users\\hilak\\appdata\\local\\temp\\pip-req-build-q4lks4k8\n",
      "  Resolved https://github.com/aiplan4eu/up-cpor to commit 1de70e9b09e2609fe7fc7bd1cc7ca685b9aad846\n",
      "  Preparing metadata (setup.py): started\n",
      "  Preparing metadata (setup.py): finished with status 'done'\n",
      "Requirement already satisfied: pythonnet==3.0.0 in c:\\users\\hilak\\anaconda3\\envs\\up-cporr\\lib\\site-packages (from up-cpor==1.0.0) (3.0.0)\n",
      "Requirement already satisfied: clr-loader<0.3.0,>=0.2.2 in c:\\users\\hilak\\anaconda3\\envs\\up-cporr\\lib\\site-packages (from pythonnet==3.0.0->up-cpor==1.0.0) (0.2.5)\n",
      "Requirement already satisfied: cffi>=1.13 in c:\\users\\hilak\\anaconda3\\envs\\up-cporr\\lib\\site-packages (from clr-loader<0.3.0,>=0.2.2->pythonnet==3.0.0->up-cpor==1.0.0) (1.15.1)\n",
      "Requirement already satisfied: pycparser in c:\\users\\hilak\\anaconda3\\envs\\up-cporr\\lib\\site-packages (from cffi>=1.13->clr-loader<0.3.0,>=0.2.2->pythonnet==3.0.0->up-cpor==1.0.0) (2.21)\n"
     ]
    },
    {
     "name": "stderr",
     "output_type": "stream",
     "text": [
      "  Running command git clone --filter=blob:none --quiet https://github.com/aiplan4eu/up-cpor 'C:\\Users\\hilak\\AppData\\Local\\Temp\\pip-req-build-q4lks4k8'\n"
     ]
    }
   ],
   "source": [
    "!pip install pythonnet==3.0.0\n",
    "!pip install git+https://github.com/aiplan4eu/unified-planning@action-selector-mixin\n",
    "!pip install --pre unified-planning[tamer]\n",
    "!pip install git+https://github.com/aiplan4eu/up-cpor"
   ],
   "metadata": {
    "collapsed": false,
    "pycharm": {
     "name": "#%%\n"
    }
   }
  },
  {
   "cell_type": "markdown",
   "source": [
    "### Unified Planning imports ###"
   ],
   "metadata": {
    "collapsed": false
   }
  },
  {
   "cell_type": "code",
   "execution_count": 2,
   "outputs": [],
   "source": [
    "from unified_planning.io import PDDLReader\n",
    "import unified_planning.environment as environment\n",
    "from unified_planning.engines.results import PlanGenerationResultStatus\n",
    "from unified_planning.shortcuts import *"
   ],
   "metadata": {
    "collapsed": false,
    "pycharm": {
     "name": "#%%\n"
    }
   }
  },
  {
   "cell_type": "markdown",
   "source": [
    "## Testing CPOR Engine With Original Solver\n",
    "\n",
    "We start by defining a simple problem in the UP syntax (alternatively we can use a parser or any other way to create a problem obejct)"
   ],
   "metadata": {
    "collapsed": false
   }
  },
  {
   "cell_type": "code",
   "execution_count": 3,
   "outputs": [],
   "source": [
    "# Creating a PDDL reader\n",
    "reader = PDDLReader()\n",
    "\n",
    "prob_arr = ['blocks2', 'doors5', 'wumpus05']"
   ],
   "metadata": {
    "collapsed": false,
    "pycharm": {
     "name": "#%%\n"
    }
   }
  },
  {
   "cell_type": "code",
   "execution_count": 4,
   "outputs": [
    {
     "name": "stdout",
     "output_type": "stream",
     "text": [
      "###########################Problem: blocks2 start###########################\n",
      "\u001B[96m\u001B[1mNOTE: To disable printing of planning engine credits, add this line to your code: `up.shortcuts.get_environment().credits_stream = None`\n",
      "\u001B[0m\u001B[96m  *** Credits ***\n",
      "\u001B[0m\u001B[96m  * In operation mode `OneshotPlanner` at line 521 of `C:\\Users\\hilak\\anaconda3\\envs\\up-cporr\\lib\\site-packages\\unified_planning\\shortcuts.py`, \u001B[0m\u001B[96myou are using the following planning engine:\n",
      "\u001B[0m\u001B[96m  * Engine name: CPOR\n",
      "  * Developers:  Guy Shani\n",
      "\u001B[0m\u001B[96m  * Description: \u001B[0m\u001B[96mCPOR is an offline contingent planner.\n",
      "  *               It computes a complete plan tree (or graph) where each node is labeled by an action, and edges are labeled by observations.\n",
      "  *              The leaves of the plan tree correspond to goal states.\u001B[0m\u001B[96m\n",
      "\u001B[0m\u001B[96m\n",
      "\u001B[0mCPORPlanning found a valid plan!\n",
      "Success\n",
      "###########################Problem: doors5 start###########################\n",
      "\u001B[96m  *** Credits ***\n",
      "\u001B[0m\u001B[96m  * In operation mode `OneshotPlanner` at line 521 of `C:\\Users\\hilak\\anaconda3\\envs\\up-cporr\\lib\\site-packages\\unified_planning\\shortcuts.py`, \u001B[0m\u001B[96myou are using the following planning engine:\n",
      "\u001B[0m\u001B[96m  * Engine name: CPOR\n",
      "  * Developers:  Guy Shani\n",
      "\u001B[0m\u001B[96m  * Description: \u001B[0m\u001B[96mCPOR is an offline contingent planner.\n",
      "  *               It computes a complete plan tree (or graph) where each node is labeled by an action, and edges are labeled by observations.\n",
      "  *              The leaves of the plan tree correspond to goal states.\u001B[0m\u001B[96m\n",
      "\u001B[0m\u001B[96m\n",
      "\u001B[0mCPORPlanning found a valid plan!\n",
      "Success\n",
      "###########################Problem: wumpus05 start###########################\n",
      "\u001B[96m  *** Credits ***\n",
      "\u001B[0m\u001B[96m  * In operation mode `OneshotPlanner` at line 521 of `C:\\Users\\hilak\\anaconda3\\envs\\up-cporr\\lib\\site-packages\\unified_planning\\shortcuts.py`, \u001B[0m\u001B[96myou are using the following planning engine:\n",
      "\u001B[0m\u001B[96m  * Engine name: CPOR\n",
      "  * Developers:  Guy Shani\n",
      "\u001B[0m\u001B[96m  * Description: \u001B[0m\u001B[96mCPOR is an offline contingent planner.\n",
      "  *               It computes a complete plan tree (or graph) where each node is labeled by an action, and edges are labeled by observations.\n",
      "  *              The leaves of the plan tree correspond to goal states.\u001B[0m\u001B[96m\n",
      "\u001B[0m\u001B[96m\n",
      "\u001B[0mCPORPlanning found a valid plan!\n",
      "Success\n"
     ]
    }
   ],
   "source": [
    "for prob in prob_arr:\n",
    "    print(f\"###########################Problem: {prob} start###########################\")\n",
    "    # Parsing a PDDL problem from file\n",
    "    problem = reader.parse_problem(\n",
    "        f\"../Tests/{prob}/d.pddl\",\n",
    "        f\"../Tests/{prob}/p.pddl\"\n",
    "    )\n",
    "\n",
    "    env = environment.get_environment()\n",
    "    env.factory.add_engine('CPORPlanning', 'up_cpor.engine', 'CPORImpl')\n",
    "\n",
    "    with OneshotPlanner(name='CPORPlanning') as planner:\n",
    "        result = planner.solve(problem)\n",
    "        if result.status == PlanGenerationResultStatus.SOLVED_SATISFICING:\n",
    "            print(f'{planner.name} found a valid plan!')\n",
    "            print(f'Success')\n",
    "        else:\n",
    "            print('No plan found!')"
   ],
   "metadata": {
    "collapsed": false,
    "pycharm": {
     "name": "#%%\n"
    }
   }
  },
  {
   "cell_type": "markdown",
   "source": [
    "## Testing CPOR Engine With Py-tamer Solver\n",
    "\n",
    "We start by defining a simple problem in the UP syntax (alternatively we can use a parser or any other way to create a problem obejct)"
   ],
   "metadata": {
    "collapsed": false
   }
  },
  {
   "cell_type": "code",
   "execution_count": 5,
   "outputs": [
    {
     "name": "stdout",
     "output_type": "stream",
     "text": [
      "###########################Problem: blocks2 start###########################\n",
      "\u001B[96m  *** Credits ***\n",
      "\u001B[0m\u001B[96m  * In operation mode `OneshotPlanner` at line 521 of `C:\\Users\\hilak\\anaconda3\\envs\\up-cporr\\lib\\site-packages\\unified_planning\\shortcuts.py`, \u001B[0m\u001B[96myou are using the following planning engine:\n",
      "\u001B[0m\u001B[96m  * Engine name: Conitngent Planning Algorithms\n",
      "  * Developers:  Guy Shani\n",
      "\u001B[0m\u001B[96m  * Description: \u001B[0m\u001B[96mAlgorithms for offline and online decision making under partial observability and sensing actions\u001B[0m\u001B[96m\n",
      "\u001B[0m\u001B[96m\n",
      "\u001B[0mCPORPlanning[Tamer] found a valid plan!\n",
      "Success\n",
      "###########################Problem: doors5 start###########################\n",
      "\u001B[96m  *** Credits ***\n",
      "\u001B[0m\u001B[96m  * In operation mode `OneshotPlanner` at line 521 of `C:\\Users\\hilak\\anaconda3\\envs\\up-cporr\\lib\\site-packages\\unified_planning\\shortcuts.py`, \u001B[0m\u001B[96myou are using the following planning engine:\n",
      "\u001B[0m\u001B[96m  * Engine name: Conitngent Planning Algorithms\n",
      "  * Developers:  Guy Shani\n",
      "\u001B[0m\u001B[96m  * Description: \u001B[0m\u001B[96mAlgorithms for offline and online decision making under partial observability and sensing actions\u001B[0m\u001B[96m\n",
      "\u001B[0m\u001B[96m\n",
      "\u001B[0mCPORPlanning[Tamer] found a valid plan!\n",
      "Success\n",
      "###########################Problem: wumpus05 start###########################\n",
      "\u001B[96m  *** Credits ***\n",
      "\u001B[0m\u001B[96m  * In operation mode `OneshotPlanner` at line 521 of `C:\\Users\\hilak\\anaconda3\\envs\\up-cporr\\lib\\site-packages\\unified_planning\\shortcuts.py`, \u001B[0m\u001B[96myou are using the following planning engine:\n",
      "\u001B[0m\u001B[96m  * Engine name: Conitngent Planning Algorithms\n",
      "  * Developers:  Guy Shani\n",
      "\u001B[0m\u001B[96m  * Description: \u001B[0m\u001B[96mAlgorithms for offline and online decision making under partial observability and sensing actions\u001B[0m\u001B[96m\n",
      "\u001B[0m\u001B[96m\n",
      "\u001B[0mCPORPlanning[Tamer] found a valid plan!\n",
      "Success\n"
     ]
    }
   ],
   "source": [
    "for prob in prob_arr:\n",
    "    print(f\"###########################Problem: {prob} start###########################\")\n",
    "    # Parsing a PDDL problem from file\n",
    "    problem = reader.parse_problem(\n",
    "        f\"../Tests/{prob}/d.pddl\",\n",
    "        f\"../Tests/{prob}/p.pddl\"\n",
    "    )\n",
    "\n",
    "    env = environment.get_environment()\n",
    "    env.factory.add_meta_engine('MetaCPORPlanning', 'up_cpor.engine', 'CPORMetaEngineImpl')\n",
    "\n",
    "    with OneshotPlanner(name='MetaCPORPlanning[tamer]') as planner:\n",
    "        result = planner.solve(problem)\n",
    "        if result.status == PlanGenerationResultStatus.SOLVED_SATISFICING:\n",
    "            print(f'{planner.name} found a valid plan!')\n",
    "            print(f'Success')\n",
    "        else:\n",
    "            print('No plan found!')"
   ],
   "metadata": {
    "collapsed": false,
    "pycharm": {
     "name": "#%%\n"
    }
   }
  },
  {
   "cell_type": "markdown",
   "source": [
    "## Testing SDR Engine With SDR Simulated Env\n"
   ],
   "metadata": {
    "collapsed": false
   }
  },
  {
   "cell_type": "code",
   "execution_count": 7,
   "outputs": [
    {
     "name": "stdout",
     "output_type": "stream",
     "text": [
      "###########################Problem: blocks2 start###########################\n",
      "\u001B[96m  *** Credits ***\n",
      "\u001B[0m\u001B[96m  * In operation mode `ActionSelector` at line 711 of `C:\\Users\\hilak\\anaconda3\\envs\\up-cporr\\lib\\site-packages\\unified_planning\\shortcuts.py`, \u001B[0m\u001B[96myou are using the following planning engine:\n",
      "\u001B[0m\u001B[96m  * Engine name: SDR\n",
      "  * Developers:  Guy Shani\n",
      "\u001B[0m\u001B[96m  * Description: \u001B[0m\u001B[96mSDR is an online contingent replanner.\n",
      "  *              It provides one action at a time, and then awaits to receive an observation from the environment.\u001B[0m\u001B[96m\n",
      "\u001B[0m\u001B[96m\n",
      "\u001B[0msenseclear b1\n",
      "move-to-t b2 b1\n",
      "move-t-to-b b1 b2\n",
      "###########################Problem: doors5 start###########################\n",
      "\u001B[96m  *** Credits ***\n",
      "\u001B[0m\u001B[96m  * In operation mode `ActionSelector` at line 711 of `C:\\Users\\hilak\\anaconda3\\envs\\up-cporr\\lib\\site-packages\\unified_planning\\shortcuts.py`, \u001B[0m\u001B[96myou are using the following planning engine:\n",
      "\u001B[0m\u001B[96m  * Engine name: SDR\n",
      "  * Developers:  Guy Shani\n",
      "\u001B[0m\u001B[96m  * Description: \u001B[0m\u001B[96mSDR is an online contingent replanner.\n",
      "  *              It provides one action at a time, and then awaits to receive an observation from the environment.\u001B[0m\u001B[96m\n",
      "\u001B[0m\u001B[96m\n",
      "\u001B[0mmove p1-3 p1-2\n",
      "move p1-2 p1-1\n",
      "sense-door p1-1 p2-1\n",
      "move p1-1 p2-1\n",
      "move p2-1 p3-1\n",
      "move p3-1 p3-2\n",
      "move p3-2 p3-3\n",
      "move p3-3 p3-4\n",
      "sense-door p3-4 p4-4\n",
      "move p3-4 p3-5\n",
      "sense-door p3-5 p4-5\n",
      "move p3-5 p3-4\n",
      "move p3-4 p3-3\n",
      "sense-door p3-3 p4-3\n",
      "move p3-3 p3-2\n",
      "sense-door p3-2 p4-2\n",
      "move p3-2 p3-1\n",
      "move p3-1 p4-1\n",
      "move p4-1 p5-1\n",
      "move p5-1 p5-2\n",
      "move p5-2 p5-3\n",
      "###########################Problem: wumpus05 start###########################\n",
      "\u001B[96m  *** Credits ***\n",
      "\u001B[0m\u001B[96m  * In operation mode `ActionSelector` at line 711 of `C:\\Users\\hilak\\anaconda3\\envs\\up-cporr\\lib\\site-packages\\unified_planning\\shortcuts.py`, \u001B[0m\u001B[96myou are using the following planning engine:\n",
      "\u001B[0m\u001B[96m  * Engine name: SDR\n",
      "  * Developers:  Guy Shani\n",
      "\u001B[0m\u001B[96m  * Description: \u001B[0m\u001B[96mSDR is an online contingent replanner.\n",
      "  *              It provides one action at a time, and then awaits to receive an observation from the environment.\u001B[0m\u001B[96m\n",
      "\u001B[0m\u001B[96m\n",
      "\u001B[0mmove p1-1 p1-2\n",
      "move p1-2 p1-3\n",
      "move p1-3 p1-4\n",
      "move p1-4 p2-4\n",
      "smell_wumpus p2-4\n",
      "feel-breeze p2-4\n",
      "move p2-4 p3-4\n",
      "move p3-4 p4-4\n",
      "feel-breeze p4-4\n",
      "smell_wumpus p4-4\n",
      "move p4-4 p3-4\n",
      "move p3-4 p3-5\n",
      "feel-breeze p3-5\n",
      "move p3-5 p4-5\n",
      "move p4-5 p5-5\n",
      "grab p5-5\n"
     ]
    }
   ],
   "source": [
    "from up_cpor.simulator import SDRSimulator\n",
    "\n",
    "for prob in prob_arr:\n",
    "    print(f\"###########################Problem: {prob} start###########################\")\n",
    "    # Parsing a PDDL problem from file\n",
    "    problem = reader.parse_problem(\n",
    "        f\"../Tests/{prob}/d.pddl\",\n",
    "        f\"../Tests/{prob}/p.pddl\"\n",
    "    )\n",
    "\n",
    "    env = environment.get_environment()\n",
    "    env.factory.add_engine('SDRPlanning', 'up_cpor.engine', 'SDRImpl')\n",
    "\n",
    "    with ActionSelector(name='SDRPlanning', problem=problem) as solver:\n",
    "        simulatedEnv = SDRSimulator(problem)\n",
    "        while not simulatedEnv.is_goal_reached():\n",
    "            action = solver.get_action()\n",
    "            observation = simulatedEnv.apply(action)\n",
    "            solver.update(observation)"
   ],
   "metadata": {
    "collapsed": false,
    "pycharm": {
     "name": "#%%\n"
    }
   }
  },
  {
   "cell_type": "code",
   "execution_count": null,
   "outputs": [],
   "source": [],
   "metadata": {
    "collapsed": false,
    "pycharm": {
     "name": "#%%\n"
    }
   }
  }
 ],
 "metadata": {
  "colab": {
   "collapsed_sections": [],
   "name": "Planning Engine Demo.ipynb",
   "provenance": []
  },
  "kernelspec": {
   "display_name": "Python 3",
   "language": "python",
   "name": "python3"
  },
  "language_info": {
   "codemirror_mode": {
    "name": "ipython",
    "version": 3
   },
   "file_extension": ".py",
   "mimetype": "text/x-python",
   "name": "python",
   "nbconvert_exporter": "python",
   "pygments_lexer": "ipython3",
   "version": "3.8.10"
  }
 },
 "nbformat": 4,
 "nbformat_minor": 1
}