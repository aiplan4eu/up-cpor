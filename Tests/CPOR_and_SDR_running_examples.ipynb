{
 "cells": [
  {
   "cell_type": "markdown",
   "source": [
    "\n",
    "# UP Contingent Planning Tutorial\n",
    "\n",
    "Contingent planning under partial observability and sensing actions is an importat problem in automated planning.\n",
    "This notebook provides examples on using the contingent planning package of the unified planning framework. The package supports offline planning, where a complete plan graph is constructed, and online planning, where the planner interacts with the environment during execution, receving observations and computing which action to perfrom next.\n",
    "\n",
    "For information about contingent planning, and the algorithms used here can be found at:\n",
    "\n",
    "\n",
    "*   Shlomi Maliah, Radimir Komarnitsky, Guy Shani: Computing Contingent Plan Graphs using Online Planning. JAAMAS 16(1): 1:1-1:30 (2021)\n",
    "*   Ronen I. Brafman, Guy Shani: Replanning in Domains with Partial Information and Sensing Actions. J. Artif. Intell. Res. 45: 565-600 (2012)\n",
    "\n",
    "For questions or comments please contact Guy Shani - shanigu@bgu.ac.il.\n"
   ],
   "metadata": {
    "collapsed": false
   }
  },
  {
   "cell_type": "markdown",
   "source": [
    "# If you would like that the solution will be print change the parameter to Ture"
   ],
   "metadata": {
    "collapsed": false
   }
  },
  {
   "cell_type": "code",
   "execution_count": 1,
   "outputs": [],
   "source": [
    "SOLUTION_PRINTED = False\n",
    "\n",
    "def print_CPOR_sol(p_planNode):\n",
    "    if p_planNode is not None:\n",
    "        x = p_planNode\n",
    "        print(x.action_instance)\n",
    "        for c in x.children:\n",
    "            print_CPOR_sol(c[1])"
   ],
   "metadata": {
    "collapsed": false,
    "pycharm": {
     "name": "#%%\n"
    }
   }
  },
  {
   "cell_type": "markdown",
   "source": [
    "### Installing the UP repo\n",
    "\n",
    "We begin by installing the UP framework."
   ],
   "metadata": {
    "collapsed": false
   }
  },
  {
   "cell_type": "code",
   "execution_count": 2,
   "outputs": [
    {
     "name": "stdout",
     "output_type": "stream",
     "text": [
      "Collecting git+https://github.com/aiplan4eu/unified-planning@action-selector-mixin\n",
      "  Cloning https://github.com/aiplan4eu/unified-planning (to revision action-selector-mixin) to c:\\users\\hilak\\appdata\\local\\temp\\pip-req-build-fxb97_ci\n",
      "  Resolved https://github.com/aiplan4eu/unified-planning to commit 0a6fe4420117e6b46f9e50162e846e5a34bb301c\n",
      "  Preparing metadata (setup.py): started\n",
      "  Preparing metadata (setup.py): finished with status 'done'\n",
      "Requirement already satisfied: pyparsing in c:\\users\\hilak\\anaconda3\\envs\\up_cpor_new2\\lib\\site-packages (from unified-planning==0.5.0.514.dev1) (3.0.9)\n",
      "Requirement already satisfied: networkx in c:\\users\\hilak\\anaconda3\\envs\\up_cpor_new2\\lib\\site-packages (from unified-planning==0.5.0.514.dev1) (3.0)\n",
      "Requirement already satisfied: pysmt in c:\\users\\hilak\\anaconda3\\envs\\up_cpor_new2\\lib\\site-packages (from unified-planning==0.5.0.514.dev1) (0.9.5)\n"
     ]
    },
    {
     "name": "stderr",
     "output_type": "stream",
     "text": [
      "WARNING: Ignoring invalid distribution -ffi (c:\\users\\hilak\\anaconda3\\envs\\up_cpor_new2\\lib\\site-packages)\n",
      "WARNING: Ignoring invalid distribution -ffi (c:\\users\\hilak\\anaconda3\\envs\\up_cpor_new2\\lib\\site-packages)\n",
      "  Running command git clone --filter=blob:none --quiet https://github.com/aiplan4eu/unified-planning 'C:\\Users\\hilak\\AppData\\Local\\Temp\\pip-req-build-fxb97_ci'\n",
      "  Running command git checkout -b action-selector-mixin --track origin/action-selector-mixin\n",
      "  Branch 'action-selector-mixin' set up to track remote branch 'action-selector-mixin' from 'origin'.\n",
      "  Switched to a new branch 'action-selector-mixin'\n",
      "WARNING: Ignoring invalid distribution -ffi (c:\\users\\hilak\\anaconda3\\envs\\up_cpor_new2\\lib\\site-packages)\n",
      "WARNING: Ignoring invalid distribution -ffi (c:\\users\\hilak\\anaconda3\\envs\\up_cpor_new2\\lib\\site-packages)\n",
      "WARNING: Ignoring invalid distribution -ffi (c:\\users\\hilak\\anaconda3\\envs\\up_cpor_new2\\lib\\site-packages)\n",
      "WARNING: Ignoring invalid distribution -ffi (c:\\users\\hilak\\anaconda3\\envs\\up_cpor_new2\\lib\\site-packages)\n"
     ]
    }
   ],
   "source": [
    "!pip install git+https://github.com/aiplan4eu/unified-planning@action-selector-mixin"
   ],
   "metadata": {
    "collapsed": false,
    "pycharm": {
     "name": "#%%\n"
    }
   }
  },
  {
   "cell_type": "markdown",
   "source": [
    "### Installing the CPOR repo\n",
    "\n",
    "We now install the CPOR repo of UP."
   ],
   "metadata": {
    "collapsed": false,
    "pycharm": {
     "name": "#%% md\n"
    }
   }
  },
  {
   "cell_type": "code",
   "execution_count": 3,
   "outputs": [
    {
     "name": "stdout",
     "output_type": "stream",
     "text": [
      "Collecting git+https://github.com/aiplan4eu/up-cpor\n",
      "  Cloning https://github.com/aiplan4eu/up-cpor to c:\\users\\hilak\\appdata\\local\\temp\\pip-req-build-k03gan4s\n",
      "  Resolved https://github.com/aiplan4eu/up-cpor to commit 45197d7241983e811b5a67d91d167cb99fd04b63\n",
      "  Preparing metadata (setup.py): started\n",
      "  Preparing metadata (setup.py): finished with status 'done'\n",
      "Collecting pythonnet==3.0.0\n",
      "  Using cached pythonnet-3.0.0-py3-none-any.whl (278 kB)\n",
      "Collecting clr-loader<0.3.0,>=0.2.2\n",
      "  Using cached clr_loader-0.2.5-py3-none-any.whl (51 kB)\n",
      "Collecting cffi>=1.13\n",
      "  Using cached cffi-1.15.1-cp39-cp39-win_amd64.whl (179 kB)\n",
      "Collecting pycparser\n",
      "  Using cached pycparser-2.21-py2.py3-none-any.whl (118 kB)\n",
      "Building wheels for collected packages: up-cpor\n",
      "  Building wheel for up-cpor (setup.py): started\n",
      "  Building wheel for up-cpor (setup.py): finished with status 'done'\n",
      "  Created wheel for up-cpor: filename=up_cpor-1.0.0-py3-none-any.whl size=196261 sha256=8b9e4269ed9c45c19a21fdd31332cdda16fc08762d6bf2adcab951326458a1f2\n",
      "  Stored in directory: C:\\Users\\hilak\\AppData\\Local\\Temp\\pip-ephem-wheel-cache-7_qwjhap\\wheels\\97\\2c\\b4\\82d2589899eb49a45adc1a9d4149cfa9865d01ff87f9c71a50\n",
      "Successfully built up-cpor\n",
      "Installing collected packages: pycparser, cffi, clr-loader, pythonnet, up-cpor\n",
      "  Attempting uninstall: pycparser\n",
      "    Found existing installation: pycparser 2.21\n",
      "    Uninstalling pycparser-2.21:\n",
      "      Successfully uninstalled pycparser-2.21\n",
      "  Attempting uninstall: cffi\n",
      "    Found existing installation: cffi 1.15.1\n",
      "    Uninstalling cffi-1.15.1:\n",
      "      Successfully uninstalled cffi-1.15.1\n",
      "  Attempting uninstall: clr-loader\n",
      "    Found existing installation: clr-loader 0.2.5\n",
      "    Uninstalling clr-loader-0.2.5:\n",
      "      Successfully uninstalled clr-loader-0.2.5\n",
      "  Attempting uninstall: pythonnet\n",
      "    Found existing installation: pythonnet 3.0.0\n",
      "    Uninstalling pythonnet-3.0.0:\n",
      "      Successfully uninstalled pythonnet-3.0.0\n",
      "  Attempting uninstall: up-cpor\n",
      "    Found existing installation: up-cpor 1.0.0\n",
      "    Can't uninstall 'up-cpor'. No files were found to uninstall.\n",
      "Successfully installed cffi-1.15.1 clr-loader-0.2.5 pycparser-2.21 pythonnet-3.0.0 up-cpor-1.0.0\n"
     ]
    },
    {
     "name": "stderr",
     "output_type": "stream",
     "text": [
      "WARNING: Ignoring invalid distribution -ffi (c:\\users\\hilak\\anaconda3\\envs\\up_cpor_new2\\lib\\site-packages)\n",
      "WARNING: Ignoring invalid distribution -ffi (c:\\users\\hilak\\anaconda3\\envs\\up_cpor_new2\\lib\\site-packages)\n",
      "  Running command git clone --filter=blob:none --quiet https://github.com/aiplan4eu/up-cpor 'C:\\Users\\hilak\\AppData\\Local\\Temp\\pip-req-build-k03gan4s'\n",
      "WARNING: The candidate selected for download or install is a yanked version: 'pythonnet' candidate (version 3.0.0 at https://files.pythonhosted.org/packages/a6/9d/536b48354e44834ef7651e08152d40e0accbb5de492d88d371e5b7b45884/pythonnet-3.0.0-py3-none-any.whl (from https://pypi.org/simple/pythonnet/))\n",
      "Reason for being yanked: Is missing python_requires and thus installs on unsupported versions\n",
      "WARNING: Ignoring invalid distribution -ffi (c:\\users\\hilak\\anaconda3\\envs\\up_cpor_new2\\lib\\site-packages)\n",
      "    WARNING: Ignoring invalid distribution -ffi (c:\\users\\hilak\\anaconda3\\envs\\up_cpor_new2\\lib\\site-packages)\n",
      "    WARNING: Ignoring invalid distribution -ffi (c:\\users\\hilak\\anaconda3\\envs\\up_cpor_new2\\lib\\site-packages)\n",
      "    WARNING: Ignoring invalid distribution -ffi (c:\\users\\hilak\\anaconda3\\envs\\up_cpor_new2\\lib\\site-packages)\n",
      "    WARNING: Ignoring invalid distribution -ffi (c:\\users\\hilak\\anaconda3\\envs\\up_cpor_new2\\lib\\site-packages)\n",
      "WARNING: Ignoring invalid distribution -ffi (c:\\users\\hilak\\anaconda3\\envs\\up_cpor_new2\\lib\\site-packages)\n",
      "WARNING: Ignoring invalid distribution -ffi (c:\\users\\hilak\\anaconda3\\envs\\up_cpor_new2\\lib\\site-packages)\n",
      "WARNING: Ignoring invalid distribution -ffi (c:\\users\\hilak\\anaconda3\\envs\\up_cpor_new2\\lib\\site-packages)\n",
      "WARNING: Ignoring invalid distribution -ffi (c:\\users\\hilak\\anaconda3\\envs\\up_cpor_new2\\lib\\site-packages)\n",
      "WARNING: Ignoring invalid distribution -ffi (c:\\users\\hilak\\anaconda3\\envs\\up_cpor_new2\\lib\\site-packages)\n",
      "WARNING: Ignoring invalid distribution -ffi (c:\\users\\hilak\\anaconda3\\envs\\up_cpor_new2\\lib\\site-packages)\n",
      "WARNING: Ignoring invalid distribution -ffi (c:\\users\\hilak\\anaconda3\\envs\\up_cpor_new2\\lib\\site-packages)\n",
      "WARNING: Ignoring invalid distribution -ffi (c:\\users\\hilak\\anaconda3\\envs\\up_cpor_new2\\lib\\site-packages)\n"
     ]
    }
   ],
   "source": [
    "!pip install --upgrade --force-reinstall git+https://github.com/aiplan4eu/up-cpor"
   ],
   "metadata": {
    "collapsed": false,
    "pycharm": {
     "name": "#%%\n"
    }
   }
  },
  {
   "cell_type": "markdown",
   "source": [
    "# Loading Problems\n",
    "\n",
    "We are now done with installations, and can start defining a problem that the planner can tackle. In this tutorial we demonstrate how problems can be loaded from pddl, but one can define a contingent problem through other methods, using the UP API."
   ],
   "metadata": {
    "collapsed": false
   }
  },
  {
   "cell_type": "code",
   "execution_count": 4,
   "outputs": [],
   "source": [
    "from unified_planning.io import PDDLReader\n",
    "\n",
    "# Creating a PDDL reader\n",
    "reader = PDDLReader()\n",
    "\n",
    "prob_arr = ['blocks2', 'doors5', 'wumpus05']"
   ],
   "metadata": {
    "collapsed": false,
    "pycharm": {
     "name": "#%%\n"
    }
   }
  },
  {
   "cell_type": "markdown",
   "source": [
    "# Offline Planning Example\n",
    "\n",
    "We now deonstrate how to compute a complete plan graph for a contingent problem, where nodes are labeled by actions, and edges are labeled by observations. The package currently implements only the CPOR offline planner. We initialize the planner, and then call the solve method to compute a solution.\n",
    "\n",
    "After a solution plan tree is computed, we can save the resulting plan to a file."
   ],
   "metadata": {
    "collapsed": false
   }
  },
  {
   "cell_type": "code",
   "execution_count": 5,
   "outputs": [
    {
     "name": "stdout",
     "output_type": "stream",
     "text": [
      "###########################Problem: blocks2 start###########################\n",
      "\u001B[96m\u001B[1mNOTE: To disable printing of planning engine credits, add this line to your code: `up.shortcuts.get_environment().credits_stream = None`\n",
      "\u001B[0m\u001B[96m  *** Credits ***\n",
      "\u001B[0m\u001B[96m  * In operation mode `OneshotPlanner` at line 521 of `C:\\Users\\hilak\\anaconda3\\envs\\up_cpor_new2\\lib\\site-packages\\unified_planning\\shortcuts.py`, \u001B[0m\u001B[96myou are using the following planning engine:\n",
      "\u001B[0m\u001B[96m  * Engine name: CPOR\n",
      "  * Developers:  Guy Shani\n",
      "\u001B[0m\u001B[96m  * Description: \u001B[0m\u001B[96mCPOR is an offline contingent planner.\n",
      "  *               It computes a complete plan tree (or graph) where each node is labeled by an action, and edges are labeled by observations.\n",
      "  *              The leaves of the plan tree correspond to goal states.\u001B[0m\u001B[96m\n",
      "\u001B[0m\u001B[96m\n",
      "\u001B[0mCPORPlanning found a valid plan!\n",
      "Success\n",
      "###########################Problem: doors5 start###########################\n",
      "\u001B[96m  *** Credits ***\n",
      "\u001B[0m\u001B[96m  * In operation mode `OneshotPlanner` at line 521 of `C:\\Users\\hilak\\anaconda3\\envs\\up_cpor_new2\\lib\\site-packages\\unified_planning\\shortcuts.py`, \u001B[0m\u001B[96myou are using the following planning engine:\n",
      "\u001B[0m\u001B[96m  * Engine name: CPOR\n",
      "  * Developers:  Guy Shani\n",
      "\u001B[0m\u001B[96m  * Description: \u001B[0m\u001B[96mCPOR is an offline contingent planner.\n",
      "  *               It computes a complete plan tree (or graph) where each node is labeled by an action, and edges are labeled by observations.\n",
      "  *              The leaves of the plan tree correspond to goal states.\u001B[0m\u001B[96m\n",
      "\u001B[0m\u001B[96m\n",
      "\u001B[0mCPORPlanning found a valid plan!\n",
      "Success\n",
      "###########################Problem: wumpus05 start###########################\n",
      "\u001B[96m  *** Credits ***\n",
      "\u001B[0m\u001B[96m  * In operation mode `OneshotPlanner` at line 521 of `C:\\Users\\hilak\\anaconda3\\envs\\up_cpor_new2\\lib\\site-packages\\unified_planning\\shortcuts.py`, \u001B[0m\u001B[96myou are using the following planning engine:\n",
      "\u001B[0m\u001B[96m  * Engine name: CPOR\n",
      "  * Developers:  Guy Shani\n",
      "\u001B[0m\u001B[96m  * Description: \u001B[0m\u001B[96mCPOR is an offline contingent planner.\n",
      "  *               It computes a complete plan tree (or graph) where each node is labeled by an action, and edges are labeled by observations.\n",
      "  *              The leaves of the plan tree correspond to goal states.\u001B[0m\u001B[96m\n",
      "\u001B[0m\u001B[96m\n",
      "\u001B[0mCPORPlanning found a valid plan!\n",
      "Success\n"
     ]
    }
   ],
   "source": [
    "import unified_planning.environment as environment\n",
    "from unified_planning.shortcuts import OneshotPlanner\n",
    "from unified_planning.engines.results import PlanGenerationResultStatus\n",
    "\n",
    "for prob in prob_arr:\n",
    "    print(f\"###########################Problem: {prob} start###########################\")\n",
    "    # Parsing a PDDL problem from file\n",
    "    problem = reader.parse_problem(\n",
    "        f\"../Tests/{prob}/d.pddl\",\n",
    "        f\"../Tests/{prob}/p.pddl\"\n",
    "    )\n",
    "\n",
    "    env = environment.get_environment()\n",
    "    env.factory.add_engine('CPORPlanning', 'up_cpor.engine', 'CPORImpl')\n",
    "\n",
    "    with OneshotPlanner(name='CPORPlanning') as planner:\n",
    "        result = planner.solve(problem)\n",
    "        if SOLUTION_PRINTED:\n",
    "            print_CPOR_sol(result.plan.root_node)\n",
    "        if result.status == PlanGenerationResultStatus.SOLVED_SATISFICING:\n",
    "            print(f'{planner.name} found a valid plan!')\n",
    "            print(f'Success')\n",
    "        else:\n",
    "            print('No plan found!')"
   ],
   "metadata": {
    "collapsed": false,
    "pycharm": {
     "name": "#%%\n"
    }
   }
  },
  {
   "cell_type": "markdown",
   "source": [
    "# Using a UP Classical Planner Inside CPOR\n",
    "\n",
    "CPOR (and SDR) operate by creating classical planning problems that model the partial knowledge, and solve them, to obtain a heuristic about which action to choose next. The CPOR package contains an internal impementation of the popular FF classical planner, by Joerg Hoffman. However, the package supports running any UP classical solver. We demonstrate here how the UP implementation of Tamer can be used instead of the internal FF."
   ],
   "metadata": {
    "collapsed": false
   }
  },
  {
   "cell_type": "code",
   "execution_count": 6,
   "outputs": [
    {
     "name": "stdout",
     "output_type": "stream",
     "text": [
      "Requirement already satisfied: unified-planning[tamer] in c:\\users\\hilak\\anaconda3\\envs\\up_cpor_new2\\lib\\site-packages (0.5.0.514.dev1)\n",
      "Requirement already satisfied: pysmt in c:\\users\\hilak\\anaconda3\\envs\\up_cpor_new2\\lib\\site-packages (from unified-planning[tamer]) (0.9.5)\n",
      "Requirement already satisfied: networkx in c:\\users\\hilak\\anaconda3\\envs\\up_cpor_new2\\lib\\site-packages (from unified-planning[tamer]) (3.0)\n",
      "Requirement already satisfied: pyparsing in c:\\users\\hilak\\anaconda3\\envs\\up_cpor_new2\\lib\\site-packages (from unified-planning[tamer]) (3.0.9)\n",
      "Requirement already satisfied: up-tamer==0.3.1.13.dev1 in c:\\users\\hilak\\anaconda3\\envs\\up_cpor_new2\\lib\\site-packages (from unified-planning[tamer]) (0.3.1.13.dev1)\n",
      "Requirement already satisfied: pytamer==0.1.10 in c:\\users\\hilak\\anaconda3\\envs\\up_cpor_new2\\lib\\site-packages (from up-tamer==0.3.1.13.dev1->unified-planning[tamer]) (0.1.10)\n"
     ]
    },
    {
     "name": "stderr",
     "output_type": "stream",
     "text": [
      "WARNING: Ignoring invalid distribution -ffi (c:\\users\\hilak\\anaconda3\\envs\\up_cpor_new2\\lib\\site-packages)\n",
      "WARNING: Ignoring invalid distribution -ffi (c:\\users\\hilak\\anaconda3\\envs\\up_cpor_new2\\lib\\site-packages)\n",
      "WARNING: Ignoring invalid distribution -ffi (c:\\users\\hilak\\anaconda3\\envs\\up_cpor_new2\\lib\\site-packages)\n",
      "WARNING: Ignoring invalid distribution -ffi (c:\\users\\hilak\\anaconda3\\envs\\up_cpor_new2\\lib\\site-packages)\n",
      "WARNING: Ignoring invalid distribution -ffi (c:\\users\\hilak\\anaconda3\\envs\\up_cpor_new2\\lib\\site-packages)\n",
      "WARNING: Ignoring invalid distribution -ffi (c:\\users\\hilak\\anaconda3\\envs\\up_cpor_new2\\lib\\site-packages)\n"
     ]
    }
   ],
   "source": [
    "!pip install unified-planning[tamer]"
   ],
   "metadata": {
    "collapsed": false,
    "pycharm": {
     "name": "#%%\n"
    }
   }
  },
  {
   "cell_type": "code",
   "execution_count": 7,
   "outputs": [
    {
     "name": "stdout",
     "output_type": "stream",
     "text": [
      "###########################Problem: blocks2 start###########################\n",
      "\u001B[96m  *** Credits ***\n",
      "\u001B[0m\u001B[96m  * In operation mode `OneshotPlanner` at line 521 of `C:\\Users\\hilak\\anaconda3\\envs\\up_cpor_new2\\lib\\site-packages\\unified_planning\\shortcuts.py`, \u001B[0m\u001B[96myou are using the following planning engine:\n",
      "\u001B[0m\u001B[96m  * Engine name: Conitngent Planning Algorithms\n",
      "  * Developers:  Guy Shani\n",
      "\u001B[0m\u001B[96m  * Description: \u001B[0m\u001B[96mAlgorithms for offline and online decision making under partial observability and sensing actions\u001B[0m\u001B[96m\n",
      "\u001B[0m\u001B[96m\n",
      "\u001B[0mCPORPlanning[Tamer] found a valid plan!\n",
      "Success\n",
      "###########################Problem: doors5 start###########################\n",
      "\u001B[96m  *** Credits ***\n",
      "\u001B[0m\u001B[96m  * In operation mode `OneshotPlanner` at line 521 of `C:\\Users\\hilak\\anaconda3\\envs\\up_cpor_new2\\lib\\site-packages\\unified_planning\\shortcuts.py`, \u001B[0m\u001B[96myou are using the following planning engine:\n",
      "\u001B[0m\u001B[96m  * Engine name: Conitngent Planning Algorithms\n",
      "  * Developers:  Guy Shani\n",
      "\u001B[0m\u001B[96m  * Description: \u001B[0m\u001B[96mAlgorithms for offline and online decision making under partial observability and sensing actions\u001B[0m\u001B[96m\n",
      "\u001B[0m\u001B[96m\n",
      "\u001B[0mCPORPlanning[Tamer] found a valid plan!\n",
      "Success\n",
      "###########################Problem: wumpus05 start###########################\n",
      "\u001B[96m  *** Credits ***\n",
      "\u001B[0m\u001B[96m  * In operation mode `OneshotPlanner` at line 521 of `C:\\Users\\hilak\\anaconda3\\envs\\up_cpor_new2\\lib\\site-packages\\unified_planning\\shortcuts.py`, \u001B[0m\u001B[96myou are using the following planning engine:\n",
      "\u001B[0m\u001B[96m  * Engine name: Conitngent Planning Algorithms\n",
      "  * Developers:  Guy Shani\n",
      "\u001B[0m\u001B[96m  * Description: \u001B[0m\u001B[96mAlgorithms for offline and online decision making under partial observability and sensing actions\u001B[0m\u001B[96m\n",
      "\u001B[0m\u001B[96m\n",
      "\u001B[0mCPORPlanning[Tamer] found a valid plan!\n",
      "Success\n"
     ]
    }
   ],
   "source": [
    "import unified_planning.environment as environment\n",
    "from unified_planning.engines.results import PlanGenerationResultStatus\n",
    "from unified_planning.shortcuts import OneshotPlanner\n",
    "\n",
    "for prob in prob_arr:\n",
    "    print(f\"###########################Problem: {prob} start###########################\")\n",
    "    # Parsing a PDDL problem from file\n",
    "    problem = reader.parse_problem(\n",
    "        f\"../Tests/{prob}/d.pddl\",\n",
    "        f\"../Tests/{prob}/p.pddl\"\n",
    "    )\n",
    "\n",
    "    env = environment.get_environment()\n",
    "    env.factory.add_meta_engine('MetaCPORPlanning', 'up_cpor.engine', 'CPORMetaEngineImpl')\n",
    "\n",
    "    with OneshotPlanner(name='MetaCPORPlanning[tamer]') as planner:\n",
    "        result = planner.solve(problem)\n",
    "        if SOLUTION_PRINTED:\n",
    "            print_CPOR_sol(result.plan.root_node)\n",
    "        if result.status == PlanGenerationResultStatus.SOLVED_SATISFICING:\n",
    "            print(f'{planner.name} found a valid plan!')\n",
    "            print(f'Success')\n",
    "        else:\n",
    "            print('No plan found!')"
   ],
   "metadata": {
    "collapsed": false,
    "pycharm": {
     "name": "#%%\n"
    }
   }
  },
  {
   "cell_type": "markdown",
   "source": [
    "#Online Contingent Planning\n",
    "\n",
    "While in offline planning the planner computes a complete plan graph, in online planning we take a closed loop approach, where an agent interacts with the environment during execution.\n",
    "\n",
    "The agent executes an action in the environment, and then receives an observation as a result in the action. In goal-based contingent planning this loop continues until the agent ensures that the goal has been achieved.\n",
    "\n",
    "The CPOR package implements the SDR contingent (re)planner. SDR operates by translating the contingent problem into a classical problem, solving it using a classical solver, and then executing the resulting actions, if their preconditions hold. When an unexpected observation was received, SDR replans.\n",
    "\n",
    "The code below demonstrates how SDR can be used, interacting with a simulated environment, which is also implemented inside the CPOR package. The while loop below implements the closed loop process.\n",
    "\n"
   ],
   "metadata": {
    "collapsed": false
   }
  },
  {
   "cell_type": "code",
   "execution_count": 8,
   "outputs": [
    {
     "name": "stdout",
     "output_type": "stream",
     "text": [
      "###########################Problem: blocks2 start###########################\n",
      "\u001B[96m  *** Credits ***\n",
      "\u001B[0m\u001B[96m  * In operation mode `ActionSelector` at line 711 of `C:\\Users\\hilak\\anaconda3\\envs\\up_cpor_new2\\lib\\site-packages\\unified_planning\\shortcuts.py`, \u001B[0m\u001B[96myou are using the following planning engine:\n",
      "\u001B[0m\u001B[96m  * Engine name: SDR\n",
      "  * Developers:  Guy Shani\n",
      "\u001B[0m\u001B[96m  * Description: \u001B[0m\u001B[96mSDR is an online contingent replanner.\n",
      "  *              It provides one action at a time, and then awaits to receive an observation from the environment.\u001B[0m\u001B[96m\n",
      "\u001B[0m\u001B[96m\n",
      "\u001B[0mSDRPlanning found a valid plan!\n",
      "Success\n",
      "###########################Problem: doors5 start###########################\n",
      "\u001B[96m  *** Credits ***\n",
      "\u001B[0m\u001B[96m  * In operation mode `ActionSelector` at line 711 of `C:\\Users\\hilak\\anaconda3\\envs\\up_cpor_new2\\lib\\site-packages\\unified_planning\\shortcuts.py`, \u001B[0m\u001B[96myou are using the following planning engine:\n",
      "\u001B[0m\u001B[96m  * Engine name: SDR\n",
      "  * Developers:  Guy Shani\n",
      "\u001B[0m\u001B[96m  * Description: \u001B[0m\u001B[96mSDR is an online contingent replanner.\n",
      "  *              It provides one action at a time, and then awaits to receive an observation from the environment.\u001B[0m\u001B[96m\n",
      "\u001B[0m\u001B[96m\n",
      "\u001B[0mSDRPlanning found a valid plan!\n",
      "Success\n",
      "###########################Problem: wumpus05 start###########################\n",
      "\u001B[96m  *** Credits ***\n",
      "\u001B[0m\u001B[96m  * In operation mode `ActionSelector` at line 711 of `C:\\Users\\hilak\\anaconda3\\envs\\up_cpor_new2\\lib\\site-packages\\unified_planning\\shortcuts.py`, \u001B[0m\u001B[96myou are using the following planning engine:\n",
      "\u001B[0m\u001B[96m  * Engine name: SDR\n",
      "  * Developers:  Guy Shani\n",
      "\u001B[0m\u001B[96m  * Description: \u001B[0m\u001B[96mSDR is an online contingent replanner.\n",
      "  *              It provides one action at a time, and then awaits to receive an observation from the environment.\u001B[0m\u001B[96m\n",
      "\u001B[0m\u001B[96m\n",
      "\u001B[0mSDRPlanning found a valid plan!\n",
      "Success\n"
     ]
    }
   ],
   "source": [
    "import unified_planning.environment as environment\n",
    "from unified_planning.shortcuts import ActionSelector\n",
    "from up_cpor.simulator import SDRSimulator\n",
    "\n",
    "for prob in prob_arr:\n",
    "    print(f\"###########################Problem: {prob} start###########################\")\n",
    "    # Parsing a PDDL problem from file\n",
    "    problem = reader.parse_problem(\n",
    "        f\"../Tests/{prob}/d.pddl\",\n",
    "        f\"../Tests/{prob}/p.pddl\"\n",
    "    )\n",
    "\n",
    "    env = environment.get_environment()\n",
    "    env.factory.add_engine('SDRPlanning', 'up_cpor.engine', 'SDRImpl')\n",
    "\n",
    "    with ActionSelector(name='SDRPlanning', problem=problem) as solver:\n",
    "        simulatedEnv = SDRSimulator(problem)\n",
    "        while not simulatedEnv.is_goal_reached():\n",
    "            action = solver.get_action()\n",
    "            observation = simulatedEnv.apply(action)\n",
    "            solver.update(observation)\n",
    "            if SOLUTION_PRINTED:\n",
    "                print(f\"Action: {action}\\n Observation: {observation}\")\n",
    "        print(f'{solver.name} found a valid plan!')\n",
    "        print(f'Success')"
   ],
   "metadata": {
    "collapsed": false,
    "pycharm": {
     "name": "#%%\n"
    }
   }
  }
 ],
 "metadata": {
  "colab": {
   "collapsed_sections": [],
   "name": "Planning Engine Demo.ipynb",
   "provenance": []
  },
  "kernelspec": {
   "display_name": "Python 3",
   "language": "python",
   "name": "python3"
  },
  "language_info": {
   "codemirror_mode": {
    "name": "ipython",
    "version": 3
   },
   "file_extension": ".py",
   "mimetype": "text/x-python",
   "name": "python",
   "nbconvert_exporter": "python",
   "pygments_lexer": "ipython3",
   "version": "3.8.10"
  }
 },
 "nbformat": 4,
 "nbformat_minor": 1
}